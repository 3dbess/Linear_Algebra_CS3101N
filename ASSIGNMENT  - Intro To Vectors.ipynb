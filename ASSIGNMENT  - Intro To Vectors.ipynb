{
 "cells": [
  {
   "cell_type": "markdown",
   "id": "f498de1c-d79b-4c5c-bca1-5bdc695ec6e6",
   "metadata": {},
   "source": [
    "#### Bessa Nicole T. Tamarra\r\n",
    "# INTRO TO VECTOR 1\r\n",
    "\r\n",
    "$$\r\n",
    "-1\\leq\\frac{\\textbf{u} \\cdotp \\textbf{v}}{||\\textbf{u}|| \\ ||\\textbf{v}||} \\leq 1\r\n",
    "$$\r\n",
    "##### Proof by example: \r\n",
    "$$\r\n",
    "\\textbf{u} = (5, -10, 5),\\space\r\n",
    "\\textbf{v} = (2, 12, -72) \\\\\r\n",
    "$$$$\r\n",
    "\\cos{\\theta}=\\frac{\\textbf{u} \\cdotp \\textbf{v}}{||\\textbf{u}|| \\ ||\\textbf{v}||} = \\frac{5(2)+(-10)(12)+3(-72)}{\\sqrt{5^2+(-10)^2+3^2}\\sqrt{2^2+12^2+(-72)^2}} = -0.39 \\\\\r\n",
    "$$\r\n",
    "<b><font color='green'>- This proves that $ -1\\leq\\frac{\\textbf{u} \\cdotp \\textbf{v}}{||\\textbf{u}|| \\ ||\\textbf{v}||} \\leq 1$ <font>"
   ]
  },
  {
   "cell_type": "markdown",
   "id": "24303e12-12d5-4189-92e2-03722314459f",
   "metadata": {},
   "source": [
    "##### 1. Let  $\\textbf{u} = (1, -2, 4),\\space \\textbf{v} = (3, 5, 1) \\space and\\space \\textbf{w} = (2, 1, -3)$ find the ff:\n",
    "##### a) $3{u} - 2{v}$\n",
    "$\\textbf{3u} - \\textbf{2v} = [3(1) - 2(3),\\space 3(-2) - 2(5),\\space 3(4) - 2(1)] = [-3, -16, 10]$ <br><br>\n",
    "<b> Pythonic Solution: <b>"
   ]
  },
  {
   "cell_type": "code",
   "execution_count": 1,
   "id": "f63cff32-7ffe-4fc1-be10-a16e9eb8faa0",
   "metadata": {},
   "outputs": [
    {
     "name": "stdout",
     "output_type": "stream",
     "text": [
      "3 * [ 1 -2  4]\n",
      "2 * [3 5 1]\n",
      "3u - 2v = [ -3 -16  10]\n"
     ]
    }
   ],
   "source": [
    "## 1a ##\n",
    "import numpy as np\n",
    "import sympy as sp\n",
    "\n",
    "u = np.array([1, -2, 4])   \n",
    "v = np.array([3, 5, 1])   \n",
    "print(f\"3 * {u}\")\n",
    "print(f\"2 * {v}\")\n",
    "result = 3*u - 2*v\n",
    "print(f\"3u - 2v = {result}\")\n"
   ]
  },
  {
   "cell_type": "markdown",
   "id": "3d608f83-4736-41aa-8745-a25cb02b23ea",
   "metadata": {},
   "source": [
    "##### b) $5{u} + 3{v} - 4{w}$\n",
    "$\\textbf{5u} + \\textbf{3v} - \\textbf{4w} = [5(1) + 3(3) - 4(2),\\space 5(-2) + 3(5) - 4(1), \\space 5(4) + 3(1) - 4(-3)] = [6, 1, 35]$ <br><br>\n",
    "<b> Pythonic Solution: <b>"
   ]
  },
  {
   "cell_type": "code",
   "execution_count": 2,
   "id": "626044f0-e8da-4950-96eb-985400560d8d",
   "metadata": {},
   "outputs": [
    {
     "name": "stdout",
     "output_type": "stream",
     "text": [
      "5 * [ 1 -2  4]\n",
      "3 * [3 5 1]\n",
      "4 * [ 2  1 -3]\n",
      "5u + 3v - 4w = [ 6  1 35]\n"
     ]
    }
   ],
   "source": [
    "## 1b ##\n",
    "u = np.array([1, -2, 4])   \n",
    "v = np.array([3, 5, 1])  \n",
    "w = np.array([2, 1, -3])\n",
    "print(f\"5 * {u}\")\n",
    "print(f\"3 * {v}\")\n",
    "print(f\"4 * {w}\")\n",
    "result = 5*u + 3*v - 4*w\n",
    "print(f\"5u + 3v - 4w = {result}\")"
   ]
  },
  {
   "cell_type": "markdown",
   "id": "fde90465-6532-448a-86fe-45999232c6e7",
   "metadata": {},
   "source": [
    "##### c) ${u}\\cdotp{v}, {v}\\cdotp{w}, {u}\\cdotp{w}$\n",
    "$\\textbf{u} \\cdotp \\textbf{v} = 1(3) + (-2)(5) + 4(1) = -3$<br>\n",
    "$\\textbf{v} \\cdotp \\textbf{w} = 3(2) + 5(1) + 1(-3) = 8$<br>\n",
    "$\\textbf{u} \\cdotp \\textbf{w} = 1(2) + (-2)(1) + 4(-3) = -12$<br><br>\n",
    "<b> Pythonic Solution: <b>"
   ]
  },
  {
   "cell_type": "code",
   "execution_count": 3,
   "id": "ecdd93f1-96db-4864-b66e-27f763d84cbd",
   "metadata": {},
   "outputs": [
    {
     "name": "stdout",
     "output_type": "stream",
     "text": [
      "u.v =  -3\n",
      "v.w =  8\n",
      "u.w =  -12\n"
     ]
    }
   ],
   "source": [
    "## 1c ##\n",
    "u = np.array([1, -2, 4])\n",
    "v = np.array([3,5,1])   \n",
    "w = np.array([2,1,-3])   \n",
    "\n",
    "print(\"u.v = \", u.dot(v))\n",
    "print(\"v.w = \", v.dot(w))\n",
    "print(\"u.w = \", u.dot(w))"
   ]
  },
  {
   "cell_type": "markdown",
   "id": "16757d8e-6988-45e0-8f4a-7a7e5e65ef5d",
   "metadata": {},
   "source": [
    "##### d) $||\\textbf{u}||, ||\\textbf{v}||, ||\\textbf{w}||$\n",
    "||$\\textbf{u}$|| = $\\sqrt{\\textbf{u} \\cdotp \\textbf{u}} = \\sqrt{1^{2} + (-2)^{2} + 4^{2}} = \\sqrt{21} \\space\\approx\\space 4.58$ <br>\n",
    "||$\\textbf{v}$|| = $\\sqrt{\\textbf{v} \\cdotp \\textbf{v}} = \\sqrt{3^{2} + 5^{2} + 1^{2}} = \\sqrt{35} \\space\\approx\\space 5.92$ <br>\n",
    "||$\\textbf{w}$|| = $\\sqrt{\\textbf{w} \\cdotp \\textbf{w}} = \\sqrt{2^{2} + 1^{2} + (-3)^{2}} = \\sqrt{14} \\space\\approx\\space 3.74$ <br><br>\n",
    "<b> Pythonic Solution: <b>"
   ]
  },
  {
   "cell_type": "code",
   "execution_count": 4,
   "id": "9b5ee1a1-1fa5-44e3-ad2f-0560f12571ca",
   "metadata": {},
   "outputs": [
    {
     "name": "stdout",
     "output_type": "stream",
     "text": [
      "||u||:  4.58257569495584\n",
      "sqrt(21):  4.58257569495584\n",
      "||v||:  5.916079783099616\n",
      "sqrt(35):  5.916079783099616\n",
      "||w||:  3.7416573867739413\n",
      "sqrt(14):  3.7416573867739413\n"
     ]
    }
   ],
   "source": [
    "## 1d ##\n",
    "u = np.array([1,-2,4])\n",
    "print('||u||: ', np.sqrt(u.dot(u)))\n",
    "print('sqrt(21): ', np.sqrt(21))\n",
    "v = np.array([3,5,1])\n",
    "print('||v||: ', np.sqrt(v.dot(v)))\n",
    "print('sqrt(35): ', np.sqrt(35))\n",
    "w = np.array([2,1,-3])\n",
    "print('||w||: ', np.sqrt(w.dot(w)))\n",
    "print('sqrt(14): ', np.sqrt(14))"
   ]
  },
  {
   "cell_type": "markdown",
   "id": "fcf21298-cda4-4a85-82a7-55bac4bcef9b",
   "metadata": {},
   "source": [
    "##### e) If $\\theta$ is the angle between $\\textbf{u}$  and   $\\textbf{v}$, find $\\cos{\\theta}$.\n",
    "$\\cos{\\theta} = \\frac{\\textbf{u} \\cdotp \\textbf{v}}{||\\textbf{u}||\\space||\\textbf{v}||}$<br>\n",
    "$\\cos{\\theta} = \\frac{1(3) + (-2)(5) + 4(1)}{\\sqrt{1^{2} + (-2)^{2} + 4^{2}}\\space\\sqrt{3^{2} + 5^{2} + 1^{2}}}$<br>\n",
    "$\\cos{\\theta} = \\frac{-3}{\\sqrt{21}\\space\\sqrt{35}} = \\frac{-\\sqrt{15}}{35}\\space\\approx\\space-0.11$<br><br>\n",
    "<b> Pythonic Solution: <b>"
   ]
  },
  {
   "cell_type": "code",
   "execution_count": 5,
   "id": "d4c0a98e-d860-44e8-923e-bcc499084a59",
   "metadata": {},
   "outputs": [
    {
     "name": "stdout",
     "output_type": "stream",
     "text": [
      "angle theta: -0.11065666703449763\n",
      "angle theta: -0.11065666703449763\n"
     ]
    }
   ],
   "source": [
    "## 1e ##\n",
    "u = np.array([1, -2, 4])   \n",
    "v = np.array([3,5,1])   \n",
    "print(\"angle theta:\",u.dot(v)/(np.linalg.norm(u)*np.linalg.norm(v)))\n",
    "print(\"angle theta:\",-3/(np.sqrt(21)*np.sqrt(35)))"
   ]
  },
  {
   "cell_type": "markdown",
   "id": "d3a5e102-899d-48f5-bb0e-de6a525cd3c0",
   "metadata": {},
   "source": [
    "##### g) If $\\beta$ is the angle between $\\textbf{u}$  and   $\\textbf{w}$, find $\\cos{\\beta}$.\n",
    "$\\cos{\\beta} = \\frac{\\textbf{u} \\cdotp \\textbf{w}}{||\\textbf{u}||\\space||\\textbf{w}||}$<br>\n",
    "$\\cos{\\beta} = \\frac{1(2) + (-2)(1) + 4(-3)}{\\sqrt{1^{2} + (-2)^{2} + 4^{2}}\\space\\sqrt{2^{2} + 1^{2} + (-3)^{2}}}$<br>\n",
    "$\\cos{\\beta} = \\frac{-12}{\\sqrt{21}\\space\\sqrt{14}} = \\frac{-2\\sqrt{6}}{7}\\space\\approx\\space-0.70$<br><br>\n",
    "<b> Pythonic Solution: <b>"
   ]
  },
  {
   "cell_type": "code",
   "execution_count": 6,
   "id": "67548b89-044b-41c1-9bcf-bb4c59b04afc",
   "metadata": {},
   "outputs": [
    {
     "name": "stdout",
     "output_type": "stream",
     "text": [
      "angle beta: -0.6998542122237653\n",
      "angle beta: -0.6998542122237653\n"
     ]
    }
   ],
   "source": [
    "## 1g ##\n",
    "u = np.array([1, -2, 4])  \n",
    "w = np.array([2,1,-3])\n",
    "print(\"angle beta:\",u.dot(w)/(np.linalg.norm(u)*np.linalg.norm(w)))\n",
    "print(\"angle beta:\",-12/(np.sqrt(21)*np.sqrt(14)))"
   ]
  },
  {
   "cell_type": "markdown",
   "id": "94d6e61d-d9ee-4e4c-acc3-49b3b75aae86",
   "metadata": {},
   "source": [
    "##### h) Find $d(\\textbf{u},\\textbf{v})$.\n",
    "$d(u,v) = ||u-v|| = \\sqrt{(1-3)^2 + ((-2)-5)^2 + (4-1)^2} = \\sqrt{4+49+9} = \\sqrt{62}\\space\\approx\\space 7.87$<br><br>\n",
    "<b> Pythonic Solution: <b>"
   ]
  },
  {
   "cell_type": "markdown",
   "id": "826727f0-d113-4c2c-b915-f5622b69d901",
   "metadata": {},
   "source": [
    "## 1h ##\n",
    "u = np.array([1, -2, 4])   \n",
    "v = np.array([3,5,1])\n",
    "print(\"d(u,v): \", np.linalg.norm(u-v))\n",
    "print(\"d(u,v): \", np.sqrt(62))"
   ]
  },
  {
   "cell_type": "markdown",
   "id": "200544e5-9c88-4ce6-b705-4d1db27ee02e",
   "metadata": {},
   "source": [
    "##### i) Find $d(\\textbf{w},\\textbf{v})$.\n",
    "$d(w,v) = ||w-v|| = \\sqrt{(2-3)^2 + (1-5)^2 + ((-3)-1)^2} = \\sqrt{1+16+16} = \\sqrt{33}\\space\\approx\\space 5.74$<br><br>\n",
    "<b> Pythonic Solution: <b>"
   ]
  },
  {
   "cell_type": "code",
   "execution_count": 9,
   "id": "7a6a0ed3-b47d-4d68-b89b-07ac0eb1f80a",
   "metadata": {},
   "outputs": [
    {
     "name": "stdout",
     "output_type": "stream",
     "text": [
      "d(w,v):  5.744562646538029\n",
      "d(w,v):  5.744562646538029\n"
     ]
    }
   ],
   "source": [
    "## 1i ##\n",
    "w = np.array([2,1,-3])   \n",
    "v = np.array([3,5,1])\n",
    "print(\"d(w,v): \", np.linalg.norm(w-v))\n",
    "print(\"d(w,v): \", np.sqrt(33))"
   ]
  },
  {
   "cell_type": "markdown",
   "id": "ba772049-a118-48be-8bcf-107408b7133a",
   "metadata": {},
   "source": [
    "##### j) Find $d(\\textbf{u},\\textbf{w})$.\n",
    "$d(u,w) = ||u-w|| = \\sqrt{(1-2)^2 + ((-2)-1^2 + (4-(-3))^2} = \\sqrt{1+9+49} = \\sqrt{59}\\space\\approx\\space 7.68$<br><br>\n",
    "<b> Pythonic Solution: <b>"
   ]
  },
  {
   "cell_type": "code",
   "execution_count": 11,
   "id": "33958ae6-b6a1-431c-b509-ec8c195c109a",
   "metadata": {},
   "outputs": [
    {
     "name": "stdout",
     "output_type": "stream",
     "text": [
      "d(u,w):  7.681145747868608\n",
      "d(u,w):  7.681145747868608\n"
     ]
    }
   ],
   "source": [
    "## 1j ##\n",
    "u = np.array([1, -2, 4])   \n",
    "w = np.array([2,1,-3])\n",
    "print(\"d(u,w): \", np.linalg.norm(u-w))\n",
    "print(\"d(u,w): \", np.sqrt(59))"
   ]
  },
  {
   "cell_type": "markdown",
   "id": "ec1b1ee6-9ca9-4e4e-8ce8-ca20bfdb3bd7",
   "metadata": {},
   "source": [
    "##### k) Find $proj(\\textbf{u},\\textbf{v})$.\n",
    "$proj(u,v) = \\frac{u \\cdotp v}{||v||^2}v = \\frac{-3}{(\\sqrt{35})^2}(3,5,1) = (\\frac{-9}{35},\\frac{-3}{7},\\frac{-3}{35}) $<br><br>\n",
    "<b> Pythonic Solution: <b>"
   ]
  },
  {
   "cell_type": "code",
   "execution_count": 12,
   "id": "a7072f53-eb1a-45b9-b7b1-2ca934a8346c",
   "metadata": {},
   "outputs": [
    {
     "name": "stdout",
     "output_type": "stream",
     "text": [
      "proj(u,v):  [-0.25714286 -0.42857143 -0.08571429]\n",
      "proj(u,v):  [-0.2571428571428571, -0.42857142857142855, -0.08571428571428572]\n"
     ]
    }
   ],
   "source": [
    "## 1k ##\n",
    "u = np.array([1, -2, 4])   \n",
    "v = np.array([3,5,1])\n",
    "print(\"proj(u,v): \",u.dot(v)*v/(np.linalg.norm(v)**2) )\n",
    "print(\"proj(u,v): \",[-9/35, -3/7, -3/35])"
   ]
  },
  {
   "cell_type": "markdown",
   "id": "88e75186-1004-4f2a-a832-d3e939e6b414",
   "metadata": {},
   "source": [
    "##### l) Find $proj(\\textbf{w},\\textbf{v})$.\n",
    "$proj(w,v) = \\frac{w \\cdotp v}{||v||^2}v = \\frac{8}{(\\sqrt{35})^2}(3,5,1) = (\\frac{24}{35},\\frac{8}{7},\\frac{8}{35}) $<br><br>\n",
    "<b> Pythonic Solution: <b>"
   ]
  },
  {
   "cell_type": "code",
   "execution_count": 13,
   "id": "a7213a7f-c7eb-44e4-b3b5-8da8d181a8a6",
   "metadata": {},
   "outputs": [
    {
     "name": "stdout",
     "output_type": "stream",
     "text": [
      "proj(w,v):  [0.68571429 1.14285714 0.22857143]\n",
      "proj(w,v):  [0.6857142857142857, 1.1428571428571428, 0.22857142857142856]\n"
     ]
    }
   ],
   "source": [
    "## 1l ##\n",
    "w = np.array([2,1,-3])  \n",
    "v = np.array([3,5,1])\n",
    "print(\"proj(w,v): \",w.dot(v)*v/(np.linalg.norm(v)**2) )\n",
    "print(\"proj(w,v): \",[24/35, 8/7, 8/35])"
   ]
  },
  {
   "cell_type": "markdown",
   "id": "a6e28567-df9c-4ac9-a34a-9a258a7ffb12",
   "metadata": {},
   "source": [
    "##### m) Find $proj(\\textbf{u},\\textbf{w})$.\n",
    "$proj(u,w) = \\frac{u \\cdotp w}{||w||^2}w = \\frac{-12}{(\\sqrt{14})^2}(2,1,-3) = (\\frac{-12}{7},\\frac{-6}{7},\\frac{18}{7}) $<br><br>\n",
    "<b> Pythonic Solution: <b>"
   ]
  },
  {
   "cell_type": "code",
   "execution_count": 14,
   "id": "c1530018-6e80-43d7-a4c7-0aa9150ecbb2",
   "metadata": {},
   "outputs": [
    {
     "name": "stdout",
     "output_type": "stream",
     "text": [
      "proj(u,w):  [-1.71428571 -0.85714286  2.57142857]\n",
      "proj(u,w):  [-1.7142857142857142, -0.8571428571428571, 2.5714285714285716]\n"
     ]
    }
   ],
   "source": [
    "## 1m ##\n",
    "u = np.array([1, -2, 4])   \n",
    "w = np.array([2,1,-3])\n",
    "print(\"proj(u,w): \",u.dot(w)*w/(np.linalg.norm(w)**2) )\n",
    "print(\"proj(u,w): \",[-12/7, -6/7, 18/7])"
   ]
  },
  {
   "cell_type": "markdown",
   "id": "a72104db-3a71-4813-ad0a-c7dcae4cd984",
   "metadata": {},
   "source": [
    "##### 2. Repeat problem 1 with the following column vectors: \n",
    "\\begin{align}\n",
    "    \\textbf{u} &= \\begin{bmatrix}\n",
    "           1 \\\\\n",
    "           3 \\\\\n",
    "           -4\n",
    "         \\end{bmatrix}, \\textbf{v} = \\begin{bmatrix}\n",
    "           2 \\\\\n",
    "           1 \\\\\n",
    "           5\n",
    "         \\end{bmatrix}, \\textbf{w} = \\begin{bmatrix}\n",
    "           3 \\\\\n",
    "           -2 \\\\\n",
    "           6\n",
    "         \\end{bmatrix}\n",
    "  \\end{align}\n",
    "##### a) $3{u} - 2{v}$\n",
    "\\begin{align}\n",
    "     \\textbf{3u} &= 3* \\begin{bmatrix} 1 \\\\ 3 \\\\ -4\\end{bmatrix} = \n",
    "     \\begin{bmatrix}  3 \\\\ 9 \\\\ -12 \\\\ \\end{bmatrix} \\space{;}\n",
    "     \\space\\space\n",
    "     \\textbf{2v} = 2 *\\begin{bmatrix} 2 \\\\ 1 \\\\ 5 \\end{bmatrix}  = \n",
    "     \\begin{bmatrix} 4 \\\\ 2 \\\\ 10 \\\\ \\end{bmatrix} \\space\\space       \n",
    "\\end{align}\n",
    "\n",
    "\\begin{align}\n",
    "\t\\textbf{3u - 2v} = \\begin{bmatrix} 3- 4 \\\\ 9 - 2 \\\\ -12 - 10 \\\\ \\end{bmatrix}  = \\begin{bmatrix} -1 \\\\ 7 \\\\ -22 \\\\ \\end{bmatrix} \n",
    "\\end{align}\n",
    "<br><br>\n",
    "<b> Pythonic Solution: <b>\n"
   ]
  },
  {
   "cell_type": "code",
   "execution_count": 17,
   "id": "9282b538-64e1-4f29-a0ec-c7944765c812",
   "metadata": {},
   "outputs": [
    {
     "name": "stdout",
     "output_type": "stream",
     "text": [
      "3 * [ 1  3 -4]\n",
      "2 * [2 1 5]\n",
      "3u - 2v = [ -1   7 -22]\n"
     ]
    }
   ],
   "source": [
    "## 2a ##\n",
    "u = np.array([1, 3, -4])   \n",
    "v = np.array([2, 1, 5])   \n",
    "print(f\"3 * {u}\")\n",
    "print(f\"2 * {v}\")\n",
    "result = 3*u - 2*v\n",
    "print(f\"3u - 2v = {result}\")"
   ]
  },
  {
   "cell_type": "markdown",
   "id": "6fe46d22-7b9d-455c-9fb7-8ab494d3995f",
   "metadata": {},
   "source": [
    "##### b) $5{u} + 3{v} - 4{w}$\n",
    "\\begin{align}\n",
    "     \\textbf{5u} &= 5* \\begin{bmatrix} 1 \\\\ 3 \\\\ -4\\end{bmatrix} = \\begin{bmatrix}  5 \\\\ 15 \\\\ -20 \\\\ \\end{bmatrix} \\space{;}\n",
    "     \\space\\space\n",
    "     \\textbf{3v} = 3 *\\begin{bmatrix} 2 \\\\ 1 \\\\ 5 \\end{bmatrix}  = \\begin{bmatrix} 6 \\\\ 3 \\\\ 15 \\\\ \\end{bmatrix} \\space{;}\n",
    "     \\space\\space\n",
    "     \\textbf{4w} = 4 *\\begin{bmatrix} 3 \\\\ -2 \\\\ 6 \\end{bmatrix} = \\begin{bmatrix} 12 \\\\ -8 \\\\ 24 \\end{bmatrix}\n",
    "\\end{align}\n",
    "\n",
    "\\begin{align}\n",
    "\\textbf{5u + 3v - 4w} = \\begin{bmatrix} 5+6-12 \\\\ 15+3-(-8) \\\\ -20+15-24 \\end{bmatrix}  = \\begin{bmatrix} -1 \\\\ 26 \\\\ -29 \\\\ \\end{bmatrix} \n",
    "\\end{align}\n",
    "<br><br>\n",
    "<b> Pythonic Solution: <b>"
   ]
  },
  {
   "cell_type": "code",
   "execution_count": 18,
   "id": "f01835e3-800b-4e6a-b6f3-aeed41a18443",
   "metadata": {},
   "outputs": [
    {
     "name": "stdout",
     "output_type": "stream",
     "text": [
      "5 * [ 1  3 -4]\n",
      "3 * [2 1 5]\n",
      "4 *[ 3 -2  6]\n",
      "5u + 3v - 4w = [ -1  26 -29]\n"
     ]
    }
   ],
   "source": [
    "## 2b ##\n",
    "u = np.array([1, 3, -4])   \n",
    "v = np.array([2, 1, 5])\n",
    "w = np.array([3, -2, 6])\n",
    "print(f\"5 * {u}\")\n",
    "print(f\"3 * {v}\")\n",
    "print(f\"4 *{w}\")\n",
    "result = 5*u + 3*v - 4*w\n",
    "print(f\"5u + 3v - 4w = {result}\")"
   ]
  },
  {
   "cell_type": "markdown",
   "id": "725799ca-ebc1-41b1-81b4-6cea30d597b6",
   "metadata": {},
   "source": [
    "##### c) ${u}\\cdotp{v}, {v}\\cdotp{w}, {u}\\cdotp{w}$\n",
    "\\begin{align}\n",
    "\t\\textbf{u}\\cdotp{v} = \\begin{bmatrix} 1\\cdotp2 \\\\ 3\\cdotp1 \\\\ -4\\cdotp5 \\end{bmatrix}  = +\\begin{bmatrix} 2 \\\\ 3 \\\\ -20 \\\\ \\end{bmatrix} = -15\n",
    "\\end{align}\n",
    "\n",
    "\\begin{align}\n",
    "\t\\textbf{v}\\cdotp{w} = \\begin{bmatrix} 2\\cdotp3 \\\\ 1\\cdotp-2 \\\\ 5\\cdotp6 \\end{bmatrix}  = +\\begin{bmatrix} 6 \\\\ -2 \\\\ 30 \\\\ \\end{bmatrix} = 34\n",
    "\\end{align}\n",
    "\n",
    "\\begin{align}\n",
    "\t\\textbf{u}\\cdotp{w} = \\begin{bmatrix} 1\\cdotp3 \\\\ 3\\cdotp-2 \\\\ -4\\cdotp6 \\end{bmatrix}  = +\\begin{bmatrix} 3 \\\\ -6 \\\\ -24 \\\\ \\end{bmatrix} = -27\n",
    "\\end{align}\n",
    "<br><br>\n",
    "<b> Pythonic Solution: <b>"
   ]
  },
  {
   "cell_type": "code",
   "execution_count": 19,
   "id": "181aa9de-e81e-44bd-83ab-cafd8b17817b",
   "metadata": {},
   "outputs": [
    {
     "name": "stdout",
     "output_type": "stream",
     "text": [
      "u.v =  -15\n",
      "v.w =  34\n",
      "u.w =  -27\n"
     ]
    }
   ],
   "source": [
    "## 2c ##\n",
    "u = np.array([1, 3, -4])\n",
    "v = np.array([2, 1, 5])   \n",
    "w = np.array([3, -2, 6])   \n",
    "\n",
    "print(\"u.v = \", u.dot(v))\n",
    "print(\"v.w = \", v.dot(w))\n",
    "print(\"u.w = \", u.dot(w))"
   ]
  },
  {
   "cell_type": "markdown",
   "id": "3e2a966b-2601-467c-a046-0f565b7368c9",
   "metadata": {},
   "source": [
    "##### d) $||\\textbf{u}||, ||\\textbf{v}||, ||\\textbf{w}||$\n",
    "||$\\textbf{u}$|| = $\\sqrt{\\textbf{u} \\cdotp \\textbf{u}} = \\sqrt{\\begin{align}\n",
    "    +\\begin{bmatrix}\n",
    "           1 \\\\\n",
    "           3 \\\\\n",
    "           -4\n",
    "         \\end{bmatrix}\\space^2\n",
    "  \\end{align}} = \\sqrt{26} \\space\\approx\\space 5.1$ <br>\n",
    "||$\\textbf{v}$|| = $\\sqrt{\\textbf{v} \\cdotp \\textbf{v}} = \\sqrt{\\begin{align}\n",
    "    +\\begin{bmatrix}\n",
    "           2 \\\\\n",
    "           1 \\\\\n",
    "           5\n",
    "         \\end{bmatrix}\\space^2\n",
    "  \\end{align}} = \\sqrt{30} \\space\\approx\\space 5.48$ <br>\n",
    "||$\\textbf{w}$|| = $\\sqrt{\\textbf{w} \\cdotp \\textbf{w}} = \\sqrt{\\begin{align}\n",
    "    +\\begin{bmatrix}\n",
    "           3 \\\\\n",
    "           -2 \\\\\n",
    "           6\n",
    "         \\end{bmatrix}\\space^2\n",
    "  \\end{align}} = \\sqrt{49} \\space\\approx\\space 7$ <br><br>\n",
    "<b> Pythonic Solution: <b>"
   ]
  },
  {
   "cell_type": "code",
   "execution_count": 20,
   "id": "071e6ef2-3e58-492b-a064-62c7faa51eff",
   "metadata": {},
   "outputs": [
    {
     "name": "stdout",
     "output_type": "stream",
     "text": [
      "||u||:  5.0990195135927845\n",
      "sqrt(26):  5.0990195135927845\n",
      "||v||:  5.477225575051661\n",
      "sqrt(30):  5.477225575051661\n",
      "||w||:  7.0\n",
      "sqrt(49):  7.0\n"
     ]
    }
   ],
   "source": [
    "## 2d ##\n",
    "u = np.array([1,3,-4])\n",
    "print('||u||: ', np.sqrt(u.dot(u)))\n",
    "print('sqrt(26): ', np.sqrt(26))\n",
    "v = np.array([2,1,5])\n",
    "print('||v||: ', np.sqrt(v.dot(v)))\n",
    "print('sqrt(30): ', np.sqrt(30))\n",
    "w = np.array([3,-2,6])\n",
    "print('||w||: ', np.sqrt(w.dot(w)))\n",
    "print('sqrt(49): ', np.sqrt(49))"
   ]
  },
  {
   "cell_type": "markdown",
   "id": "ec5a9555-f37b-4766-817f-37790333eca1",
   "metadata": {},
   "source": [
    "##### e) If $\\theta$ is the angle between $\\textbf{u}$  and   $\\textbf{v}$, find $\\cos{\\theta}$.\n",
    "$\\cos{\\theta} = \\frac{\\textbf{u} \\cdotp \\textbf{v}}{||\\textbf{u}||\\space||\\textbf{v}||}$<br>\n",
    "$\\cos{\\theta} = \\frac{\\begin{align}\n",
    "\t+\\begin{bmatrix} 1\\cdotp2 \\\\ 3\\cdotp1 \\\\ -4\\cdotp5 \\end{bmatrix}\n",
    "\\end{align}}{\\sqrt{\\begin{align}\n",
    "    +\\begin{bmatrix}\n",
    "           1 \\\\\n",
    "           3 \\\\\n",
    "           -4\n",
    "         \\end{bmatrix}\\space^2\n",
    "  \\end{align}}\\space\\sqrt{\\begin{align}\n",
    "    +\\begin{bmatrix}\n",
    "           2 \\\\\n",
    "           1 \\\\\n",
    "           5\n",
    "         \\end{bmatrix}\\space^2\n",
    "  \\end{align}}}$<br>\n",
    "$\\cos{\\theta} = \\frac{-15}{\\sqrt{26}\\space\\sqrt{30}} = \\frac{-\\sqrt{195}}{26}\\space\\approx\\space-0.54$<br><br>\n",
    "<b> Pythonic Solution: <b>"
   ]
  },
  {
   "cell_type": "code",
   "execution_count": 21,
   "id": "21c4c163-ba86-4c63-bd53-230ec4c56393",
   "metadata": {},
   "outputs": [
    {
     "name": "stdout",
     "output_type": "stream",
     "text": [
      "angle theta: -0.5370861555295747\n",
      "angle theta: -0.5370861555295747\n"
     ]
    }
   ],
   "source": [
    "## 2e ##\n",
    "u = np.array([1, 3, -4])   \n",
    "v = np.array([2,1,5])   \n",
    "print(\"angle theta:\",u.dot(v)/(np.linalg.norm(u)*np.linalg.norm(v)))\n",
    "print(\"angle theta:\",-15/(np.sqrt(26)*np.sqrt(30)))"
   ]
  },
  {
   "cell_type": "markdown",
   "id": "ee28e787-54cb-4246-8275-08848a943fcd",
   "metadata": {},
   "source": [
    "##### f) If $\\alpha$ is the angle between $\\textbf{v}$  and   $\\textbf{w}$, find $\\cos{\\alpha}$.\n",
    "$\\cos{\\alpha} = \\frac{\\textbf{v} \\cdotp \\textbf{w}}{||\\textbf{v}||\\space||\\textbf{w}||}$<br>\n",
    "$\\cos{\\alpha} = \\frac{\\begin{align}\n",
    "\t+\\begin{bmatrix} 2\\cdotp3 \\\\ 1\\cdotp-2 \\\\ 5\\cdotp6 \\end{bmatrix}\n",
    "\\end{align}}{\\sqrt{\\begin{align}\n",
    "    +\\begin{bmatrix}\n",
    "           2 \\\\\n",
    "           1 \\\\\n",
    "           5\n",
    "         \\end{bmatrix}\\space^2\n",
    "  \\end{align}}\\space\\sqrt{\\begin{align}\n",
    "    +\\begin{bmatrix}\n",
    "           3 \\\\\n",
    "           -2 \\\\\n",
    "           6\n",
    "         \\end{bmatrix}\\space^2\n",
    "  \\end{align}}}$<br>\n",
    "$\\cos{\\alpha} = \\frac{34}{\\sqrt{30}\\space\\sqrt{49}}\\space\\approx\\space0.89$<br><br>\n",
    "<b> Pythonic Solution: <b>"
   ]
  },
  {
   "cell_type": "code",
   "execution_count": 22,
   "id": "acfc5c4a-bde0-49e8-8198-2de5d1508c70",
   "metadata": {},
   "outputs": [
    {
     "name": "stdout",
     "output_type": "stream",
     "text": [
      "angle alpha: 0.8867889026274118\n",
      "angle alpha: 0.8867889026274118\n"
     ]
    }
   ],
   "source": [
    "## 2f ## \n",
    "v = np.array([2,1,5])  \n",
    "w = np.array([3,-2,6])\n",
    "print(\"angle alpha:\",v.dot(w)/(np.linalg.norm(v)*np.linalg.norm(w)))\n",
    "print(\"angle alpha:\",34/(np.sqrt(30)*np.sqrt(49)))"
   ]
  },
  {
   "cell_type": "markdown",
   "id": "ebd07db1-af8f-49ef-84dd-4ba3d244d3e5",
   "metadata": {},
   "source": [
    "##### g) If $\\beta$ is the angle between $\\textbf{u}$  and   $\\textbf{w}$, find $\\cos{\\beta}$.\n",
    "$\\cos{\\beta} = \\frac{\\textbf{u} \\cdotp \\textbf{w}}{||\\textbf{u}||\\space||\\textbf{w}||}$<br>\n",
    "$\\cos{\\beta} = \\frac{\n",
    "\\begin{align}\n",
    "\t+\\begin{bmatrix} 1\\cdotp3 \\\\ 3\\cdotp-1 \\\\ -4\\cdotp6 \\end{bmatrix}\n",
    "\\end{align}\n",
    "}{\\sqrt{\\begin{align}\n",
    "    +\\begin{bmatrix}\n",
    "           1 \\\\\n",
    "           3 \\\\\n",
    "           -4\n",
    "         \\end{bmatrix}\\space^2\n",
    "  \\end{align}}\\space\\sqrt{\\begin{align}\n",
    "    +\\begin{bmatrix}\n",
    "           3 \\\\\n",
    "           -2 \\\\\n",
    "           6\n",
    "         \\end{bmatrix}\\space^2\n",
    "  \\end{align}}}$<br>\n",
    "$\\cos{\\beta} = \\frac{-27}{\\sqrt{26}\\space\\sqrt{49}}\\space\\approx\\space-0.76$<br><br>\n",
    "<b> Pythonic Solution: <b>"
   ]
  },
  {
   "cell_type": "code",
   "execution_count": 23,
   "id": "df331016-a35d-4367-877c-7e8c2d4bf4cf",
   "metadata": {},
   "outputs": [
    {
     "name": "stdout",
     "output_type": "stream",
     "text": [
      "angle beta: -0.7564479498187099\n",
      "angle beta: -0.7564479498187099\n"
     ]
    }
   ],
   "source": [
    "## 2g ##\n",
    "u = np.array([1, 3, -4])  \n",
    "w = np.array([3,-2,6])\n",
    "print(\"angle beta:\",u.dot(w)/(np.linalg.norm(u)*np.linalg.norm(w)))\n",
    "print(\"angle beta:\",-27/(np.sqrt(26)*np.sqrt(49)))"
   ]
  },
  {
   "cell_type": "markdown",
   "id": "08872602-db0d-4583-8c2d-d054f87304e5",
   "metadata": {},
   "source": [
    "##### h) Find $d(\\textbf{u},\\textbf{v})$.\n",
    "$d(u,v) = ||u-v|| = \\sqrt{\n",
    "\\begin{align}\n",
    "    +\\begin{bmatrix}\n",
    "           1 - 2 \\\\\n",
    "           3 - 1 \\\\\n",
    "           -4 - 5\n",
    "      \\end{bmatrix}\\space^2\n",
    "\\end{align}} =\\sqrt{86}\\space\\approx\\space 9.27$<br><br>\n",
    "<b> Pythonic Solution: <b>"
   ]
  },
  {
   "cell_type": "code",
   "execution_count": 24,
   "id": "848dddc4-f40e-48cd-a39f-3040026a9f7a",
   "metadata": {},
   "outputs": [
    {
     "name": "stdout",
     "output_type": "stream",
     "text": [
      "d(u,v):  9.273618495495704\n"
     ]
    }
   ],
   "source": [
    "## 2h ##\n",
    "u = np.array([1,3,-4])\n",
    "v = np.array([2,1,5])\n",
    "print(\"d(u,v): \", np.linalg.norm(u-v))"
   ]
  },
  {
   "cell_type": "markdown",
   "id": "405e5488-fbe1-41af-aba9-6dafc613417e",
   "metadata": {},
   "source": [
    "##### i) Find $d(\\textbf{w},\\textbf{v})$.\n",
    "$d(w,v) = ||w-v|| = \\sqrt{\n",
    "\\begin{align}\n",
    "    +\\begin{bmatrix}\n",
    "           3 - 2 \\\\\n",
    "           -2 - 1 \\\\\n",
    "           6 - 5\n",
    "      \\end{bmatrix}\\space^2\n",
    "\\end{align}} =\\sqrt{11}\\space\\approx\\space 3.32$<br><br>\n",
    "<b> Pythonic Solution: <b>"
   ]
  },
  {
   "cell_type": "code",
   "execution_count": 25,
   "id": "8187c097-c29b-4afb-a5ac-0cf1912c02ef",
   "metadata": {},
   "outputs": [
    {
     "name": "stdout",
     "output_type": "stream",
     "text": [
      "d(w,v):  3.3166247903554\n"
     ]
    }
   ],
   "source": [
    "## 2i ##\n",
    "w = np.array([3,-2,6])\n",
    "v = np.array([2,1,5])\n",
    "print(\"d(w,v): \", np.linalg.norm(w-v))"
   ]
  },
  {
   "cell_type": "markdown",
   "id": "912760a2-223e-4ed7-8d84-44ee4efdf97f",
   "metadata": {},
   "source": [
    "##### j) Find $d(\\textbf{u},\\textbf{w})$.\n",
    "$d(u,v) = ||u-w|| = \\sqrt{\n",
    "\\begin{align}\n",
    "    +\\begin{bmatrix}\n",
    "           1 - 3 \\\\\n",
    "           3 - (-2) \\\\\n",
    "           -4 - 6\n",
    "      \\end{bmatrix}\\space^2\n",
    "\\end{align}} =\\sqrt{129}\\space\\approx\\space 11.36$<br><br>\n",
    "<b> Pythonic Solution: <b>"
   ]
  },
  {
   "cell_type": "code",
   "execution_count": 26,
   "id": "7165988f-5251-4ab0-ba9b-2ef8ca9bf334",
   "metadata": {},
   "outputs": [
    {
     "name": "stdout",
     "output_type": "stream",
     "text": [
      "d(u,w):  11.357816691600547\n"
     ]
    }
   ],
   "source": [
    "## 2j ##\n",
    "u = np.array([1,3,-4])\n",
    "w = np.array([3,-2,6])\n",
    "print(\"d(u,w): \", np.linalg.norm(u-w))"
   ]
  },
  {
   "cell_type": "markdown",
   "id": "156dd033-743a-4f96-9a21-0842ab6d520c",
   "metadata": {},
   "source": [
    "##### k) Find $proj(\\textbf{u},\\textbf{v})$.\n",
    "$proj(u,v) = \\frac{u \\cdotp v}{||v||^2}v = \\frac{-15}{(\\sqrt{30})^2}\n",
    "\\begin{align}\n",
    "\t\\begin{bmatrix}\n",
    "    2 \\\\\n",
    "    1 \\\\\n",
    "    5 \\\\\n",
    "    \\end{bmatrix}\n",
    "\\end{align} = (-1,\\frac{-1}{2},\\frac{-5}{2}) $<br>\n",
    "<b> Pythonic Solution: <b>"
   ]
  },
  {
   "cell_type": "code",
   "execution_count": 27,
   "id": "5ae0bdfc-ec22-43a7-9090-854407f861b7",
   "metadata": {},
   "outputs": [
    {
     "name": "stdout",
     "output_type": "stream",
     "text": [
      "proj(u,v):  [-1.  -0.5 -2.5]\n",
      "proj(u,v):  [-1, -0.5, -2.5]\n"
     ]
    }
   ],
   "source": [
    "## 2k ##\n",
    "u = np.array([1, 3, -4])   \n",
    "v = np.array([2,1,5])\n",
    "print(\"proj(u,v): \",u.dot(v)*v/(np.linalg.norm(v)**2) )\n",
    "print(\"proj(u,v): \",[-1, -1/2, -5/2])"
   ]
  },
  {
   "cell_type": "markdown",
   "id": "cdb1f88d-93d5-4692-a075-b5d18d795dfb",
   "metadata": {},
   "source": [
    "##### l) Find $proj(\\textbf{w},\\textbf{v})$.\n",
    "$proj(w,v) = \\frac{w \\cdotp v}{||v||^2}v = \\frac{34}{(\\sqrt{30})^2}\n",
    "\\begin{align}\n",
    "\t\\begin{bmatrix}\n",
    "    2 \\\\\n",
    "    1 \\\\\n",
    "    5 \\\\\n",
    "    \\end{bmatrix}\n",
    "\\end{align} = (\\frac{34}{15},\\frac{17}{15},\\frac{17}{3}) $<br>\n",
    "<b> Pythonic Solution: <b>"
   ]
  },
  {
   "cell_type": "code",
   "execution_count": 30,
   "id": "d303688d-d92c-470f-a90b-a108d6687136",
   "metadata": {},
   "outputs": [
    {
     "name": "stdout",
     "output_type": "stream",
     "text": [
      "proj(w,v):  [2.26666667 1.13333333 5.66666667]\n",
      "proj(w,v):  [2.2666666666666666, 1.1333333333333333, 5.666666666666667]\n"
     ]
    }
   ],
   "source": [
    "## 2l ##\n",
    "w = np.array([3, -2, 6])   \n",
    "v = np.array([2,1,5])\n",
    "print(\"proj(w,v): \",w.dot(v)*v/(np.linalg.norm(v)**2) )\n",
    "print(\"proj(w,v): \",[34/15, 17/15, 17/3])"
   ]
  },
  {
   "cell_type": "markdown",
   "id": "aa4a12d1-d48d-44a0-b79a-3ce8ab9927fe",
   "metadata": {},
   "source": [
    "##### m) Find $proj(\\textbf{u},\\textbf{w})$.\n",
    "$proj(u,w) = \\frac{u \\cdotp w}{||w||^2}v = \\frac{-27}{(\\sqrt{49})^2}\n",
    "\\begin{align}\n",
    "\t\\begin{bmatrix}\n",
    "    3 \\\\\n",
    "    -2 \\\\\n",
    "    6 \\\\\n",
    "    \\end{bmatrix}\n",
    "\\end{align} = (\\frac{-81}{49},\\frac{54}{49},\\frac{-162}{49}) $<br>\n",
    "<b> Pythonic Solution: <b>"
   ]
  },
  {
   "cell_type": "code",
   "execution_count": 31,
   "id": "b1cd047b-dd81-4432-940a-06f3673ff510",
   "metadata": {},
   "outputs": [
    {
     "name": "stdout",
     "output_type": "stream",
     "text": [
      "proj(u,w):  [-1.65306122  1.10204082 -3.30612245]\n",
      "proj(u,w):  [-1.653061224489796, 1.1020408163265305, -3.306122448979592]\n"
     ]
    }
   ],
   "source": [
    "## 2m ##\n",
    "u = np.array([1, 3, -4])   \n",
    "w = np.array([3, -2, 6])\n",
    "print(\"proj(u,w): \",u.dot(w)*w/(np.linalg.norm(w)**2) )\n",
    "print(\"proj(u,w): \",[-81/49, 54/49, -162/49])"
   ]
  },
  {
   "cell_type": "markdown",
   "id": "d9dac19b-2b79-42f3-8f86-d293c1fa35de",
   "metadata": {},
   "source": [
    "##### 3. Let  $\\textbf{u} = (2, -5, 4, 6, -3),\\space \\textbf{v} = (5, -2, 1, -7, -4) \\space and\\space \\textbf{w} = (2, 1, -3)$ find the ff:\n",
    "##### a) $4{u} - 3{v}$\n",
    "$\\textbf{4u} - \\textbf{3v} = [4(2) - 3(5),\\space 4(-5) - 3(-2),\\space 4(4) - 3(1),\\space 4(6) - 3(-7),\\space 4(-3) - 3(-4)] = [-7, -14, 13, 45, 0]$ <br><br>\n",
    "<b> Pythonic Solution: <b>"
   ]
  },
  {
   "cell_type": "code",
   "execution_count": 32,
   "id": "1af458dd-dc03-49bf-8182-d1b00ebe468e",
   "metadata": {},
   "outputs": [
    {
     "name": "stdout",
     "output_type": "stream",
     "text": [
      "4 * [ 2 -5  4  6 -3]\n",
      "3 * [ 5 -2  1 -7 -4]\n",
      "4u - 3v = [ -7 -14  13  45   0]\n"
     ]
    }
   ],
   "source": [
    "## 3a ##\n",
    "import numpy as np\n",
    "\n",
    "u = np.array([2,-5,4,6,-3])   \n",
    "v = np.array([5,-2,1,-7,-4])   \n",
    "print(f\"4 * {u}\")\n",
    "print(f\"3 * {v}\")\n",
    "result = 4*u - 3*v\n",
    "print(f\"4u - 3v = {result}\")"
   ]
  },
  {
   "cell_type": "markdown",
   "id": "b1751937-572d-4a95-bff6-bb0d83bfca6e",
   "metadata": {},
   "source": [
    "##### b) $5{u} + 2{v} - 2{w}$\n",
    "$\\textbf{5u} + \\textbf{2v} - \\textbf{2w} = [5(2) + 2(5) - 2(2),\\space 5(-5) + 2(-2) - 2(1),\\space 5(4) + 2(1) - 2(-3),\\space 5(6) + 2(-7),\\space 5(-3) + 2(-4)] = [16, -31, 28, \\not{16}, \\not{-23}]$ <br><br>\n",
    "<b> Pythonic Solution: <b>"
   ]
  },
  {
   "cell_type": "code",
   "execution_count": 33,
   "id": "c355f1cf-2f85-40ed-a6c2-81931f740ca5",
   "metadata": {},
   "outputs": [
    {
     "name": "stdout",
     "output_type": "stream",
     "text": [
      "5u + 2v - 2w = [16, -31, 28]\n"
     ]
    }
   ],
   "source": [
    "## 3b ##\n",
    "u = [2, -5, 4, 6, -3]\n",
    "v = [5, -2, 1, -7, -4]\n",
    "w = [2, 1, -3]\n",
    "result = []\n",
    "\n",
    "for u, v, w in zip(u, v, w): # element-wise process since the # of elements vary between u,v and w\n",
    "    result.append(5 * u + 2 * v - 2 * w)\n",
    "\n",
    "print(f\"5u + 2v - 2w = {result}\") #only prints up to the common element place"
   ]
  },
  {
   "cell_type": "markdown",
   "id": "8f6f2bb1-e9c2-4d96-929b-43f5c2003fbb",
   "metadata": {},
   "source": [
    "##### c) ${u}\\cdotp{v}, {v}\\cdotp{w}, {u}\\cdotp{w}$\n",
    "$\\textbf{u} \\cdotp \\textbf{v} = 2(5) + (-5)(-2) + 4(1) + 6(-7) + (-3)(-4) = -6$<br>\n",
    "$\\textbf{v} \\cdotp \\textbf{w} = 5(2) + (-2)(1) + 1(-3) = 5$<br>\n",
    "$\\textbf{u} \\cdotp \\textbf{w} = 2(2) + (-25)(1) + 4(-3) = -13$<br><br>\n",
    "<b> Pythonic Solution: <b>"
   ]
  },
  {
   "cell_type": "code",
   "execution_count": 34,
   "id": "7575ad7c-6a7e-473c-839a-ee5fe62de87a",
   "metadata": {},
   "outputs": [
    {
     "name": "stdout",
     "output_type": "stream",
     "text": [
      "u.v = -6\n",
      "v.w = 5\n",
      "u.w = -13\n"
     ]
    }
   ],
   "source": [
    "## 3c ##\n",
    "u = np.array([2, -5, 4, 6, -3])\n",
    "v = np.array([5, -2, 1, -7, -4])\n",
    "w = np.array([2, 1, -3])\n",
    "element_placement = 3  \n",
    "\n",
    "print(\"u.v =\", np.dot(u, v))\n",
    "u = u[:element_placement] #adjusting the placements for u and v to match with the common placement of elements based on w\n",
    "v = v[:element_placement]\n",
    "print(\"v.w =\", np.dot(v, w))\n",
    "print(\"u.w =\", np.dot(u, w))"
   ]
  },
  {
   "cell_type": "markdown",
   "id": "b54b5f7f-c41d-409b-8297-a32af058ed28",
   "metadata": {},
   "source": [
    "##### d) $||\\textbf{u}||, ||\\textbf{v}||, ||\\textbf{w}||$\n",
    "||$\\textbf{u}$|| = $\\sqrt{\\textbf{u} \\cdotp \\textbf{u}} = \\sqrt{2^{2} + (-5)^{2} + 4^{2} + 6^{2} + (-3)^{2}} = 3\\sqrt{10} \\space\\approx\\space 9.47$ <br>\n",
    "||$\\textbf{v}$|| = $\\sqrt{\\textbf{v} \\cdotp \\textbf{v}} = \\sqrt{5^{2} + (-2)^{2} + 1^{2} + (-7)^{2} + (-4)^{2}} = \\sqrt{95} \\space\\approx\\space 9.75$ <br>\n",
    "||$\\textbf{w}$|| = $\\sqrt{\\textbf{w} \\cdotp \\textbf{w}} = \\sqrt{2^{2} + 1^{2} + (-3)^{2}} = \\sqrt{14} \\space\\approx\\space 3.74$ <br><br>\n",
    "<b> Pythonic Solution: <b>"
   ]
  },
  {
   "cell_type": "code",
   "execution_count": 35,
   "id": "6df6b489-4be2-43b3-9562-193786d6d73c",
   "metadata": {},
   "outputs": [
    {
     "name": "stdout",
     "output_type": "stream",
     "text": [
      "||u||:  9.486832980505138\n",
      "sqrt(90):  9.486832980505138\n",
      "||v||:  9.746794344808963\n",
      "sqrt(95):  9.746794344808963\n",
      "||w||:  3.7416573867739413\n",
      "sqrt(14):  3.7416573867739413\n"
     ]
    }
   ],
   "source": [
    "## 3d ##\n",
    "u = np.array([2, -5, 4, 6, -3])\n",
    "v = np.array([5, -2, 1, -7, -4])\n",
    "w = np.array([2, 1, -3])\n",
    "\n",
    "print('||u||: ', np.sqrt(u.dot(u)))\n",
    "print('sqrt(90): ', np.sqrt(90))\n",
    "\n",
    "print('||v||: ', np.sqrt(v.dot(v)))\n",
    "print('sqrt(95): ', np.sqrt(95))\n",
    "\n",
    "print('||w||: ', np.sqrt(w.dot(w)))\n",
    "print('sqrt(14): ', np.sqrt(14))"
   ]
  },
  {
   "cell_type": "markdown",
   "id": "9ea2d139-7109-4fb2-b5cb-1920b5d87def",
   "metadata": {},
   "source": [
    "##### e) If $\\theta$ is the angle between $\\textbf{u}$  and   $\\textbf{v}$, find $\\cos{\\theta}$.\n",
    "$\\cos{\\theta} = \\frac{\\textbf{u} \\cdotp \\textbf{v}}{||\\textbf{u}||\\space||\\textbf{v}||}$<br>\n",
    "$\\cos{\\theta} = \\frac{2(5) + (-5)(-2) + 4(1) + 6(-7) + (-3)(-4)}{\\sqrt{2^{2} + (-5)^{2} + 4^{2} + 6^{2} + (-3)^{2}}\\space\\sqrt{5^{2} + (-2)^{2} + 1^{2} + (-7)^{2} + (-4)^{2}}}$<br>\n",
    "$\\cos{\\theta} = \\frac{-6}{3\\sqrt{10}\\space\\sqrt{95}} = \\frac{-\\sqrt{38}}{95}\\space\\approx\\space-0.06$<br><br>\n",
    "<b> Pythonic Solution: <b>"
   ]
  },
  {
   "cell_type": "code",
   "execution_count": 36,
   "id": "82c46908-c2e8-4260-ae59-af349cf613e6",
   "metadata": {},
   "outputs": [
    {
     "name": "stdout",
     "output_type": "stream",
     "text": [
      "angle theta: -0.06488856845230502\n",
      "angle theta: -0.06488856845230502\n"
     ]
    }
   ],
   "source": [
    "## 3e ##\n",
    "u = np.array([2, -5, 4, 6, -3])\n",
    "v = np.array([5, -2, 1, -7, -4])\n",
    "w = np.array([2, 1, -3])\n",
    "\n",
    "print(\"angle theta:\",u.dot(v)/(np.linalg.norm(u)*np.linalg.norm(v)))\n",
    "print(\"angle theta:\",-6/(np.sqrt(90)*np.sqrt(95)))"
   ]
  },
  {
   "cell_type": "markdown",
   "id": "9d6fe845-89c9-475d-904f-1a16dc17dc2d",
   "metadata": {},
   "source": [
    "##### f) If $\\alpha$ is the angle between $\\textbf{v}$  and   $\\textbf{w}$, find $\\cos{\\alpha}$.\n",
    "$\\cos{\\alpha} = \\frac{\\textbf{v} \\cdotp \\textbf{w}}{||\\textbf{v}||\\space||\\textbf{w}||}$<br>\n",
    "$\\cos{\\alpha} = \\frac{5(2) + (-2)(1) + 1(-3)}{\\sqrt{5^{2} + (-2)^{2} + 1^{2} + (-7)^{2} + (-4)^{2}}\\space\\sqrt{2^{2} + 1^{2} + (-3)^{2}}}$<br>\n",
    "$\\cos{\\alpha} = \\frac{5}{\\sqrt{95}\\space\\sqrt{14}}\\space\\approx\\space0.14$<br><br>\n",
    "<b> Pythonic Solution: <b>"
   ]
  },
  {
   "cell_type": "code",
   "execution_count": 37,
   "id": "b7fa2730-3428-41ab-b189-02a1293a9476",
   "metadata": {},
   "outputs": [
    {
     "name": "stdout",
     "output_type": "stream",
     "text": [
      "angle alpha: 0.13710212427677046\n",
      "angle alpha: 0.13710212427677046\n"
     ]
    }
   ],
   "source": [
    "## 3e ##\n",
    "u = np.array([2, -5, 4, 6, -3])\n",
    "v = np.array([5, -2, 1, -7, -4])\n",
    "w = np.array([2, 1, -3])\n",
    "element_placement = 3 \n",
    "\n",
    "print(\"angle alpha:\", np.dot(v[:element_placement], w)/(np.linalg.norm(v)*np.linalg.norm(w)))\n",
    "print(\"angle alpha:\",5/(np.sqrt(95)*np.sqrt(14)))"
   ]
  },
  {
   "cell_type": "markdown",
   "id": "709cdcbb-8f37-4d52-b44d-c9502bda04cf",
   "metadata": {},
   "source": [
    "##### g) If $\\beta$ is the angle between $\\textbf{u}$  and   $\\textbf{w}$, find $\\cos{\\beta}$.\n",
    "$\\cos{\\beta} = \\frac{\\textbf{u} \\cdotp \\textbf{w}}{||\\textbf{u}||\\space||\\textbf{w}||}$<br>\n",
    "$\\cos{\\beta} = \\frac{2(2) + (-25)(1) + 4(-3)}{\\sqrt{2^{2} + (-5)^{2} + 4^{2} + 6^{2} + (-3)^{2}}\\space\\sqrt{2^{2} + 1^{2} + (-3)^{2}}}$<br>\n",
    "$\\cos{\\beta} = \\frac{-13}{3\\sqrt{10}\\space\\sqrt{14}}\\space\\approx\\space-0.37$<br><br>\n",
    "<b> Pythonic Solution: <b>"
   ]
  },
  {
   "cell_type": "code",
   "execution_count": 38,
   "id": "36cb1653-266a-49cf-aba3-32019358d15c",
   "metadata": {},
   "outputs": [
    {
     "name": "stdout",
     "output_type": "stream",
     "text": [
      "angle beta: -0.3662335103823572\n",
      "angle beta: -0.3662335103823572\n"
     ]
    }
   ],
   "source": [
    "## 3g ##\n",
    "u = np.array([2, -5, 4, 6, -3])\n",
    "v = np.array([5, -2, 1, -7, -4])\n",
    "w = np.array([2, 1, -3])\n",
    "element_placement = 3 \n",
    "\n",
    "print(\"angle beta:\", np.dot(u[:element_placement], w)/(np.linalg.norm(u)*np.linalg.norm(w)))\n",
    "print(\"angle beta:\",-13/(np.sqrt(90)*np.sqrt(14)))"
   ]
  },
  {
   "cell_type": "markdown",
   "id": "5d8d6753-15ff-48a0-982a-6ae99b6f2b22",
   "metadata": {},
   "source": [
    "##### h) Find $d(\\textbf{u},\\textbf{v})$.\n",
    "$d(u,v) = ||u-v|| = \\sqrt{(2-5)^2 + ((-5)-(-2))^2 + (4-1)^2 + (6-(-7))^2 + ((-3)-(-4))^2} = \\sqrt{197}\\space\\approx\\space 14.04$<br><br>\n",
    "<b> Pythonic Solution: <b>"
   ]
  },
  {
   "cell_type": "code",
   "execution_count": 39,
   "id": "c478a580-5df1-40b8-8a24-6946194fb6f0",
   "metadata": {},
   "outputs": [
    {
     "name": "stdout",
     "output_type": "stream",
     "text": [
      "d(u,v):  14.035668847618199\n",
      "d(u,v):  14.035668847618199\n"
     ]
    }
   ],
   "source": [
    "## 3h ##\n",
    "u = np.array([2, -5, 4, 6, -3])\n",
    "v = np.array([5, -2, 1, -7, -4])\n",
    "w = np.array([2, 1, -3]) \n",
    "\n",
    "print(\"d(u,v): \", np.linalg.norm(u-v))\n",
    "print(\"d(u,v): \", np.sqrt(197))"
   ]
  },
  {
   "cell_type": "markdown",
   "id": "1eea5f5b-1926-4624-9c96-2383799c257b",
   "metadata": {},
   "source": [
    "##### i) Find $d(\\textbf{w},\\textbf{v})$.\n",
    "$d(w,v) = ||w-v|| = \\sqrt{(2-5)^2 + (1-(-2))^2 + ((-3)-1)^2} = \\sqrt{34}\\space\\approx\\space 5.83$<br><br>\n",
    "<b> Pythonic Solution: <b>"
   ]
  },
  {
   "cell_type": "code",
   "execution_count": 40,
   "id": "2035c91f-d695-4b9c-98a5-e009200ef26b",
   "metadata": {},
   "outputs": [
    {
     "name": "stdout",
     "output_type": "stream",
     "text": [
      "d(w,v):  5.830951894845301\n",
      "d(w,v):  5.830951894845301\n"
     ]
    }
   ],
   "source": [
    "## 3i ##\n",
    "u = np.array([2, -5, 4, 6, -3])\n",
    "v = np.array([5, -2, 1, -7, -4])\n",
    "w = np.array([2, 1, -3])\n",
    "element_placement = 3 \n",
    "\n",
    "print(\"d(w,v): \", np.linalg.norm(w-v[:element_placement])) \n",
    "print(\"d(w,v): \", np.sqrt(34))"
   ]
  },
  {
   "cell_type": "markdown",
   "id": "ef87e07e-8537-4c44-bb57-365b99c2ae59",
   "metadata": {},
   "source": [
    "##### j) Find $d(\\textbf{u},\\textbf{w})$.\n",
    "$d(u,w) = ||u-w|| = \\sqrt{(2-2)^2 + ((-5)-1)^2 + (4-(-3))^2} = \\sqrt{85}\\space\\approx\\space 9.22$<br><br>\n",
    "<b> Pythonic Solution: <b>"
   ]
  },
  {
   "cell_type": "code",
   "execution_count": 41,
   "id": "6b1a8ce1-8e3b-42d6-909a-f2a7bcb6e06c",
   "metadata": {},
   "outputs": [
    {
     "name": "stdout",
     "output_type": "stream",
     "text": [
      "d(u,w):  9.219544457292887\n",
      "d(u,w):  9.219544457292887\n"
     ]
    }
   ],
   "source": [
    "## 3j ##\n",
    "u = np.array([2, -5, 4, 6, -3])\n",
    "v = np.array([5, -2, 1, -7, -4])\n",
    "w = np.array([2, 1, -3])\n",
    "element_placement = 3 \n",
    "\n",
    "print(\"d(u,w): \", np.linalg.norm(u[:element_placement] - w)) \n",
    "print(\"d(u,w): \", np.sqrt(85))"
   ]
  },
  {
   "cell_type": "markdown",
   "id": "81cd654e-b451-40d2-9d91-2a99fb6e8567",
   "metadata": {},
   "source": [
    "##### k) Find $proj(\\textbf{u},\\textbf{v})$.\n",
    "$proj(u,v) = \\frac{u \\cdotp v}{||v||^2}v = \\frac{-6}{(\\sqrt{95})^2}(5,-2,1,-7,-4) = (\\frac{-6}{19},\\frac{12}{95},\\frac{-6}{95}, \\frac{42}{95}, \\frac{24}{95}) $<br><br>\n",
    "<b> Pythonic Solution: <b>"
   ]
  },
  {
   "cell_type": "code",
   "execution_count": 42,
   "id": "3b04c8f4-a360-4ebe-9c21-7c10af008e44",
   "metadata": {},
   "outputs": [
    {
     "name": "stdout",
     "output_type": "stream",
     "text": [
      "proj(u,v):  [-0.31578947  0.12631579 -0.06315789  0.44210526  0.25263158]\n",
      "proj(u,v):  [-0.3157894736842105, 0.12631578947368421, -0.06315789473684211, 0.4421052631578947, 0.25263157894736843]\n"
     ]
    }
   ],
   "source": [
    "## 3k ##\n",
    "u = np.array([2, -5, 4, 6, -3])\n",
    "v = np.array([5, -2, 1, -7, -4])\n",
    "w = np.array([2, 1, -3])\n",
    "\n",
    "print(\"proj(u,v): \",u.dot(v)*v/(np.linalg.norm(v)**2) )\n",
    "print(\"proj(u,v): \",[-6/19, 12/95, -6/95, 42/95, 24/95])"
   ]
  },
  {
   "cell_type": "markdown",
   "id": "8bb8d368-89c4-4a67-a39c-47754b40dca0",
   "metadata": {},
   "source": [
    "##### l) Find $proj(\\textbf{w},\\textbf{v})$.\n",
    "$proj(w,v) = \\frac{w \\cdotp v}{||v||^2}v = \\frac{5}{(\\sqrt{95})^2}(5,-2,1,-7,-4) = (\\frac{5}{19},\\frac{-2}{19},\\frac{1}{19}, \\frac{-7}{19}, \\frac{-4}{19}) $<br><br>\n",
    "<b> Pythonic Solution: <b>"
   ]
  },
  {
   "cell_type": "code",
   "execution_count": 44,
   "id": "b3a8993d-1790-4cb2-b856-a7f005743f9c",
   "metadata": {},
   "outputs": [
    {
     "name": "stdout",
     "output_type": "stream",
     "text": [
      "proj(w,v):  [ 0.26315789 -0.10526316  0.05263158 -0.36842105 -0.21052632]\n",
      "proj(w,v):  [0.2631578947368421, -0.10526315789473684, 0.05263157894736842, -0.3684210526315789, -0.21052631578947367]\n"
     ]
    }
   ],
   "source": [
    "## 3l ##\n",
    "u = np.array([2, -5, 4, 6, -3])\n",
    "v = np.array([5, -2, 1, -7, -4])\n",
    "w = np.array([2, 1, -3])\n",
    "element_placement = 3\n",
    "\n",
    "print(\"proj(w,v): \",w.dot(v[:element_placement])*v/(np.linalg.norm(v)**2) )\n",
    "print(\"proj(w,v): \",[5/19, -2/19, 1/19, -7/19, -4/19])"
   ]
  },
  {
   "cell_type": "markdown",
   "id": "5cfb5ea0-0391-42d1-a620-eb3febf0f937",
   "metadata": {},
   "source": [
    "##### m) Find $proj(\\textbf{u},\\textbf{w})$.\n",
    "$proj(u,w) = \\frac{u \\cdotp w}{||w||^2}v = \\frac{-13}{(\\sqrt{14})^2}(2,1,-3) = (\\frac{-13}{7},\\frac{-13}{7},\\frac{39}{14})$<br><br>\n",
    "<b> Pythonic Solution: <b>"
   ]
  },
  {
   "cell_type": "code",
   "execution_count": 45,
   "id": "097bc041-3241-44db-8395-a733204fbdd3",
   "metadata": {},
   "outputs": [
    {
     "name": "stdout",
     "output_type": "stream",
     "text": [
      "proj(u,w):  [-1.85714286 -0.92857143  2.78571429]\n",
      "proj(u,w):  [-1.8571428571428572, -0.9285714285714286, 2.7857142857142856]\n"
     ]
    }
   ],
   "source": [
    "## 3m ##\n",
    "u = np.array([2, -5, 4, 6, -3])\n",
    "v = np.array([5, -2, 1, -7, -4])\n",
    "w = np.array([2, 1, -3])\n",
    "element_placement = 3\n",
    "\n",
    "print(\"proj(u,w): \",u[:element_placement].dot(w)*w/(np.linalg.norm(w)**2) )\n",
    "print(\"proj(u,w): \",[-13/7, -13/14, 39/14])"
   ]
  },
  {
   "cell_type": "code",
   "execution_count": null,
   "id": "9b1c8d42-d226-412a-947f-47d1ef79e4dc",
   "metadata": {},
   "outputs": [],
   "source": [
    "\n"
   ]
  },
  {
   "cell_type": "markdown",
   "id": "3cd27123-44a1-4cec-910a-76264eebb5ab",
   "metadata": {},
   "source": [
    "##### 4. Normalize each vector:\n",
    "##### a) ${u} = (5, -7)$\n",
    "$||\\textbf{u}|| = \\sqrt{{5}^2 + {7}^2} = \\sqrt{74} \\\\\n",
    "\\textbf{u'} = \\frac{\\textbf{u}}{||\\textbf{u}||} = (\\frac{5}{\\sqrt{74}},\\frac{-7}{\\sqrt{74}}) = \\sqrt{(\\frac{5}{\\sqrt{74}})^2 + (\\frac{-7}{\\sqrt{74}})^2} = 1$\n",
    "<b> Pythonic Solution: <b>"
   ]
  },
  {
   "cell_type": "code",
   "execution_count": 47,
   "id": "5fda9332-bbc6-451c-87b0-afb8368ec361",
   "metadata": {},
   "outputs": [
    {
     "name": "stdout",
     "output_type": "stream",
     "text": [
      "u':  [ 0.58123819 -0.81373347]\n"
     ]
    }
   ],
   "source": [
    "## 4a ##\n",
    "u = np.array([5, -7])\n",
    "\n",
    "print(\"u': \", u/np.sqrt(u.dot(u)))"
   ]
  },
  {
   "cell_type": "markdown",
   "id": "0e4457ba-67c8-4db4-883b-4693a25fff85",
   "metadata": {},
   "source": [
    "##### b) ${v} = (1, 2, -2, 4)$\n",
    "$||\\textbf{v}|| = \\sqrt{{1}^2 + {2}^2 + {-2}^2 + {4}^2} = \\sqrt{5} \\\\\n",
    "\\textbf{v'} = \\frac{\\textbf{v}}{||\\textbf{v}||} = (\\frac{1}{\\sqrt{5}},\\frac{2}{\\sqrt{5}}, \\frac{-2}{\\sqrt{5}}, \\frac{4}{\\sqrt{5}}) = \\sqrt{(\\frac{1}{\\sqrt{5}})^2 + (\\frac{2}{\\sqrt{5}})^ + (\\frac{-2}{\\sqrt{5}})^2 + (\\frac{4}{\\sqrt{5}})^2} = 1$\n",
    "<b> Pythonic Solution: <b>"
   ]
  },
  {
   "cell_type": "code",
   "execution_count": 48,
   "id": "5e7c443c-dbb4-48d1-bb78-c9e892124219",
   "metadata": {},
   "outputs": [
    {
     "name": "stdout",
     "output_type": "stream",
     "text": [
      "v':  [ 0.2  0.4 -0.4  0.8]\n"
     ]
    }
   ],
   "source": [
    "## 4b ##\n",
    "v = np.array([1,2,-2,4])\n",
    "\n",
    "print(\"v': \", v/np.sqrt(v.dot(v)))"
   ]
  },
  {
   "cell_type": "markdown",
   "id": "54e1441c-1db2-4392-8846-3e62e0c67b4a",
   "metadata": {},
   "source": [
    "##### c) ${w} = (\\frac{1}{2}, \\frac{-1}{3}, \\frac{3}{4})$\n",
    "$||\\textbf{w}|| = \\sqrt{{\\frac{1}{2}}^2 + {\\frac{-1}{3}}^2 + {\\frac{3}{4}}^2} = \\frac{\\sqrt{133}}{12} \\\\\n",
    "\\textbf{w'} = \\frac{\\textbf{w}}{||\\textbf{w}||} = (\\frac{{\\frac{1}{2}}}{\\frac{\\sqrt{133}}{12}},\\frac{{\\frac{-1}{3}}}{\\frac{\\sqrt{133}}{12}}, \\frac{{\\frac{3}{4}}}{\\frac{\\sqrt{133}}{12}}) = \\sqrt{\\frac{{\\frac{1}{2}}}{\\frac{\\sqrt{133}}{12}}^2 +\\frac{{\\frac{-1}{3}}}{\\frac{\\sqrt{133}}{12}}^2 + \\frac{{\\frac{3}{4}}}{\\frac{\\sqrt{133}}{12}}^2} = 1$\n",
    "<b> Pythonic Solution: <b>"
   ]
  },
  {
   "cell_type": "code",
   "execution_count": 50,
   "id": "a3991195-e01a-4ff0-a668-fc7abc2a6086",
   "metadata": {},
   "outputs": [
    {
     "name": "stdout",
     "output_type": "stream",
     "text": [
      "w':  [ 0.52026598 -0.34684399  0.78039897]\n"
     ]
    }
   ],
   "source": [
    "## 4c ##\n",
    "w = np.array([1/2,-1/3,3/4])\n",
    "\n",
    "print(\"w': \", w/np.sqrt(w.dot(w)))"
   ]
  },
  {
   "cell_type": "markdown",
   "id": "eb0e3f31-e787-43cc-bc61-58adaf3fc8c4",
   "metadata": {},
   "source": [
    "##### 5. Let  $\\textbf{u} = (1, 2, -2),\\space \\textbf{v} = (3, -12, 4) \\space and\\space a\\space scalar\\space\\textbf{k} = -3$\n",
    "###### Find  $||\\textbf{u}||, ||\\textbf{v}||, ||\\textbf{u + v}||, ||\\textbf{ku}||$\n",
    "||$\\textbf{u}$|| = $\\sqrt{\\textbf{u} \\cdotp \\textbf{u}} = \\sqrt{1^{2} + 2^{2} + (-2)^{2}} = \\space 3$ <br>\n",
    "||$\\textbf{v}$|| = $\\sqrt{\\textbf{v} \\cdotp \\textbf{v}} = \\sqrt{3^{2} + (-12)^{2} + 4^{2}} = \\space 13$ <br>\n",
    "||$\\textbf{u + v}$|| = $\\sqrt{(1+3)^{2} + (2+(-12))^{2} + ((-2)+4)^{2}} = 2\\sqrt{30} \\space\\approx\\space 10.95$<br>\n",
    "||$\\textbf{ku}$|| =$\\sqrt{((-3)(1))^{2} + ((-3)(2))^{2} + ((-3)(-2))^{2}} = \\space 9$ <br>\n",
    "<br><br>\n",
    "<b> Pythonic Solution: <b>"
   ]
  },
  {
   "cell_type": "code",
   "execution_count": 51,
   "id": "c9949baa-96c6-41a8-b5fa-a2eef1ae27d4",
   "metadata": {},
   "outputs": [
    {
     "name": "stdout",
     "output_type": "stream",
     "text": [
      "||u||:  3.0\n",
      "||v||:  13.0\n",
      "||u+v||:  10.954451150103322\n",
      "||ku||:  9.0\n"
     ]
    }
   ],
   "source": [
    "## 5 ##\n",
    "u = np.array([1,2,-2])\n",
    "v = np.array([3,-12,4])\n",
    "k = -3\n",
    "\n",
    "print('||u||: ', np.sqrt(u.dot(u)))\n",
    "print('||v||: ', np.sqrt(v.dot(v)))\n",
    "print('||u+v||: ', np.linalg.norm(u+v))\n",
    "print('||ku||: ', np.linalg.norm(k*u))"
   ]
  },
  {
   "cell_type": "markdown",
   "id": "0df90ea9-95f8-4d4d-956c-1310a88a4339",
   "metadata": {},
   "source": [
    "##### 6. Find $\\textbf{k}$ so that $\\textbf{u and v}$ are orthogonal\n",
    "##### a) $\\textbf{u} = (3, {k}, - 2), \\textbf{v} = (6, -4, -3)$\n",
    "$\\textbf{u} \\cdotp \\textbf{v} = 3(6) + k(-4) + (-2)(-3) = 0\\\\\n",
    "\\textbf{u} \\cdotp \\textbf{v} = 18 + (-4k) + 6 = 0\\\\\n",
    "\\textbf{u} \\cdotp \\textbf{v} = \\frac{18+6}{4} = \\frac{4k}{4}\\\\\n",
    "\\textbf{k} = 6$<br>\n",
    "<b> Pythonic Solution: <b>"
   ]
  },
  {
   "cell_type": "code",
   "execution_count": 52,
   "id": "52bc11a5-936a-44ce-b4ad-486355babb6c",
   "metadata": {},
   "outputs": [
    {
     "name": "stdout",
     "output_type": "stream",
     "text": [
      "k = [6]\n"
     ]
    }
   ],
   "source": [
    "## 6a ##\n",
    "k = sp.symbols('k')\n",
    "u = sp.Matrix([3, k, -2])\n",
    "v = sp.Matrix([6, -4, -3])\n",
    "\n",
    "print(\"k =\", sp.solve((sp.Eq(u.dot(v), 0)), k))"
   ]
  },
  {
   "cell_type": "markdown",
   "id": "81bf561f-09fc-40bb-adee-e3d63bf71d6e",
   "metadata": {},
   "source": [
    "##### b) $\\textbf{u} = (5, {k}, -4, 2), \\textbf{v} = (1, -3, 2, 2{k})$\n",
    "$\\textbf{u} \\cdotp \\textbf{v} = 5(1) + k(-3) + (-4)(2) + (2)(2k) = 0\\\\\n",
    "\\textbf{u} \\cdotp \\textbf{v} = -3k + 4k - 3 = 0\\\\\n",
    "\\textbf{u} \\cdotp \\textbf{v} = k - 3 = 0\\\\\n",
    "\\textbf{k} = 3$<br>\n",
    "<b> Pythonic Solution: <b>"
   ]
  },
  {
   "cell_type": "code",
   "execution_count": 53,
   "id": "4a00b6d8-1508-43c9-9607-ea03f24d360f",
   "metadata": {},
   "outputs": [
    {
     "name": "stdout",
     "output_type": "stream",
     "text": [
      "k = [3]\n"
     ]
    }
   ],
   "source": [
    "## 6b ##\n",
    "k = sp.symbols('k')\n",
    "u = sp.Matrix([5, k, -4, 2])\n",
    "v = sp.Matrix([1, -3, 2, 2*k])\n",
    "\n",
    "print(\"k =\", sp.solve((sp.Eq(u.dot(v), 0)), k))"
   ]
  },
  {
   "cell_type": "markdown",
   "id": "e133099a-bcab-468e-b7c7-622a41bca9c2",
   "metadata": {},
   "source": [
    "##### c) $\\textbf{u} = (1, 7, {k + 2}, -2), \\textbf{v} = (3, {k}, -3, {k})$\n",
    "$\\textbf{u} \\cdotp \\textbf{v} = 1(3) + 7(k) + (k+2)(-3) + (-2)(k) = 0\\\\\n",
    "\\textbf{u} \\cdotp \\textbf{v} = 7k + (-3k) + (-2k) = 0\\\\\n",
    "\\textbf{u} \\cdotp \\textbf{v} = \\frac{2k}{k} = \\frac{3}{2}\\\\\n",
    "\\textbf{k} = \\frac{3}{2}$<br>\n",
    "<b> Pythonic Solution: <b>"
   ]
  },
  {
   "cell_type": "code",
   "execution_count": 54,
   "id": "6a903760-5f9d-46c6-8770-b5740fc835d9",
   "metadata": {},
   "outputs": [
    {
     "name": "stdout",
     "output_type": "stream",
     "text": [
      "k = [3/2]\n"
     ]
    }
   ],
   "source": [
    "## 6c ##\n",
    "k = sp.symbols('k')\n",
    "u = sp.Matrix([1, 7, k + 2, -2])\n",
    "v = sp.Matrix([3, k, -3, k])\n",
    "\n",
    "print(\"k =\", sp.solve((sp.Eq(u.dot(v), 0)), k))"
   ]
  },
  {
   "cell_type": "code",
   "execution_count": null,
   "id": "79b7c82f-3ac9-4b96-a3cf-f37aba2d5359",
   "metadata": {},
   "outputs": [],
   "source": []
  }
 ],
 "metadata": {
  "kernelspec": {
   "display_name": "Python 3 (ipykernel)",
   "language": "python",
   "name": "python3"
  },
  "language_info": {
   "codemirror_mode": {
    "name": "ipython",
    "version": 3
   },
   "file_extension": ".py",
   "mimetype": "text/x-python",
   "name": "python",
   "nbconvert_exporter": "python",
   "pygments_lexer": "ipython3",
   "version": "3.11.5"
  }
 },
 "nbformat": 4,
 "nbformat_minor": 5
}
