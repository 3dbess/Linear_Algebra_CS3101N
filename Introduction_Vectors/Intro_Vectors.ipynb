{
 "cells": [
  {
   "cell_type": "markdown",
   "id": "0b1853ba-c14e-4afa-a4e6-bb703a2e34fe",
   "metadata": {},
   "source": [
    "#### 1. Let $\\textbf{u} = (1, -2, 4)$ and $\\textbf{v} = (3,5,1)$ $\\textbf{w} = (2,1,-3)$ find:<br>"
   ]
  },
  {
   "cell_type": "markdown",
   "id": "661aa13f-9bc8-477e-b6a3-5f6becf65b60",
   "metadata": {},
   "source": [
    "#### Manual Solution"
   ]
  },
  {
   "cell_type": "markdown",
   "id": "bdb164ff-fcb1-4838-9125-9bc2c360c266",
   "metadata": {},
   "source": [
    "a. $3\\textbf{u}-2\\textbf{v}$<br>"
   ]
  },
  {
   "cell_type": "markdown",
   "id": "e6241bc9-8abb-4e71-acce-779c0819988c",
   "metadata": {},
   "source": [
    "$= 3\\textbf{u}-2\\textbf{v} = 3(1, -2, 4) - 2(3, 5, 1)$<br>\n",
    "$= (3, -6, 12) - (6, 10, 2)$<br>\n",
    "$= (-3, -16, 10)$<br>"
   ]
  },
  {
   "cell_type": "markdown",
   "id": "81d0deb7-f83d-4296-94fc-c02d311fe7b9",
   "metadata": {},
   "source": [
    "b. $5\\textbf{u}+3\\textbf{v}-4\\textbf{w}$<br>"
   ]
  },
  {
   "cell_type": "markdown",
   "id": "0749dbf9-6e2f-4ed6-b4eb-bda2d9f84e97",
   "metadata": {},
   "source": [
    "$= 5(1,-2,4) + 3(3,5,1) - 4(2,1,-3)$<br>\n",
    "$= (14, 5, 23) - (8, 4, -12)$<br>\n",
    "$= (6, 1, 35)$<br>"
   ]
  },
  {
   "cell_type": "markdown",
   "id": "dc784ff3-b189-426a-a2cd-818770204c04",
   "metadata": {},
   "source": [
    "c. $\\textbf{u} \\cdotp \\textbf{v}$,$\\textbf{v} \\cdotp \\textbf{w}$, $\\textbf{u} \\cdotp \\textbf{w}$<br>"
   ]
  },
  {
   "cell_type": "markdown",
   "id": "26adabe2-ed9a-4cec-8d14-eaabb4878ff2",
   "metadata": {},
   "source": [
    " $\\textbf{u} \\cdotp \\textbf{v} = 1(3)-2(5)+4(1)=-3$<br>\n",
    " $\\textbf{v} \\cdotp \\textbf{w} = 3(2)+5(1)+1(-3)=8$<br>\n",
    " $\\textbf{u} \\cdotp \\textbf{w} = 1(2)-2(1)+4(-3)=-12$<br>"
   ]
  },
  {
   "cell_type": "markdown",
   "id": "12b00d1e-c939-4154-ab0b-864f10508918",
   "metadata": {},
   "source": [
    " d. ||$\\textbf{u}$||, ||$\\textbf{v}$||, ||$\\textbf{w}$||<br>\n"
   ]
  },
  {
   "cell_type": "markdown",
   "id": "5c04e1be-bf14-45b8-a16c-345fb9e37048",
   "metadata": {},
   "source": [
    "||$\\textbf{u}$|| = $\\sqrt{\\textbf{u}.\\textbf{u}} = \\sqrt{1^{2}+(-2)^{2}+4^{2}}$ = $\\sqrt{21}$<br>\n",
    "||$\\textbf{v}$|| = $\\sqrt{\\textbf{v}.\\textbf{v}} = \\sqrt{3^{2}+5^{2}+1^{2}}$ = $\\sqrt{35}$<br>\n",
    "||$\\textbf{w}$|| = $\\sqrt{\\textbf{w}.\\textbf{w}} = \\sqrt{2^{2}+1^{2}+(-3)^{2}}$ = $\\sqrt{14}$<br>"
   ]
  },
  {
   "cell_type": "markdown",
   "id": "73fa761a-bb31-4cef-aab9-1c3c4404e465",
   "metadata": {},
   "source": [
    "e. If $\\theta$ is the angle between $\\textbf{u}$  and   $\\textbf{v}$, find $\\cos{\\theta}$.<br>"
   ]
  },
  {
   "cell_type": "markdown",
   "id": "d186643c-355f-443e-8a92-4aa5c5b54871",
   "metadata": {},
   "source": [
    "$\\cos{\\theta}\n",
    "=\\frac{\\textbf{u} \\cdotp \\textbf{v}}{||\\textbf{u}|| \\ ||\\textbf{v}||}$\n",
    "$=\\frac{1(3)-2(5)+4(1)}{\\sqrt{1^{2}+(-2)^{2}+4^{2}}\\sqrt{3^{2}+5^{2}+1^{2}}}$\n",
    "$=-\\frac{3}{\\sqrt{21}\\sqrt{35}}$"
   ]
  },
  {
   "cell_type": "markdown",
   "id": "34036606-4aba-4815-b659-cbbb181bb664",
   "metadata": {},
   "source": [
    "f. If $\\alpha$ is the angle between $\\textbf{v}$  and   $\\textbf{w}$, find $\\cos{\\alpha}$.<br>"
   ]
  },
  {
   "cell_type": "markdown",
   "id": "c9c9a528-8cb0-475c-b30b-09d59349a9a8",
   "metadata": {},
   "source": [
    "$\\cos{\\alpha}\n",
    "=\\frac{\\textbf{v} \\cdotp \\textbf{w}}{||\\textbf{v}|| \\ ||\\textbf{w}||}$\n",
    "$=\\frac{1(3)-2(5)+4(1)}{\\sqrt{3^{2}+5^{2}+1^{2}}\\sqrt{2^{2}+1^{2}+(-3)^{2}}}$\n",
    "$=\\frac{8}{\\sqrt{35}\\sqr"
   ]
  },
  {
   "cell_type": "markdown",
   "id": "c6e85f24-382f-49f3-a842-27ebbbb2cfa7",
   "metadata": {},
   "source": [
    "g. If $\\beta$ is the angle between $\\textbf{u}$  and   $\\textbf{w}$, find $\\cos{\\beta}$.<br>"
   ]
  },
  {
   "cell_type": "markdown",
   "id": "a0e4fd38-2c06-4daa-bd3d-7046ddb6d10d",
   "metadata": {},
   "source": [
    "$\\cos{\\beta}\n",
    "=\\frac{\\textbf{u} \\cdotp \\textbf{w}}{||\\textbf{u}|| \\ ||\\textbf{w}||}$\n",
    "$=\\frac{1(2)-2(1)+4(-3)}{\\sqrt{1^{2}+(-2)^{2}+4^{2}}\\sqrt{2^{2}+1^{2}+(-3)^{2}}}$\n",
    "$=-\\frac{12}{\\sqrt{21}\\sqrt{14}}$"
   ]
  },
  {
   "cell_type": "markdown",
   "id": "a16ad36e-e4c4-4bee-a27b-c07e3ae0adf4",
   "metadata": {},
   "source": [
    "h. Find $d(\\textbf{u},\\textbf{v})$.<br>\n"
   ]
  },
  {
   "cell_type": "markdown",
   "id": "0def33ed-089e-487d-a82e-ff97e1151f9f",
   "metadata": {},
   "source": [
    "$d(\\textbf{u},\\textbf{v}) = ||\\textbf{u} - \\textbf{v}|| = \\sqrt{(1-3)^2 + (-2-5)^2 + (4-1)^2} = \\sqrt{4+49+9} = \\sqrt{62}$."
   ]
  },
  {
   "cell_type": "markdown",
   "id": "7280a2d6-883f-4d3f-87cd-8432e0c425c3",
   "metadata": {},
   "source": [
    "i. Find $d(\\textbf{w},\\textbf{v})$.<br>\n"
   ]
  },
  {
   "cell_type": "markdown",
   "id": "c4588c46-d962-4b8f-9a3e-304c95d39bea",
   "metadata": {},
   "source": [
    "$d(\\textbf{u},\\textbf{w}) = ||\\textbf{u} - \\textbf{w}|| = \\sqrt{(2-3)^2 + (1-5)^2 + (-3-1)^2} = \\sqrt{1+16+16} = \\sqrt{33}$."
   ]
  },
  {
   "cell_type": "markdown",
   "id": "9d9fc402-4866-4b53-b8f6-2ece9d9d9d73",
   "metadata": {},
   "source": [
    "j. Find $d(\\textbf{u},\\textbf{w})$.<br>\n"
   ]
  },
  {
   "cell_type": "markdown",
   "id": "fb07c651-7e7f-4eb7-ac67-789440532843",
   "metadata": {},
   "source": [
    "$d(\\textbf{u},\\textbf{w}) = ||\\textbf{u} - \\textbf{w}|| = \\sqrt{(1-2)^2 + (-2-1)^2 + (4-(-3))^2} = \\sqrt{1+9+49} = \\sqrt{59}$.<br>"
   ]
  },
  {
   "cell_type": "markdown",
   "id": "8c54b6f1-82fa-459e-b780-e5b804c5afba",
   "metadata": {},
   "source": [
    "k. Find $proj(\\textbf{u},\\textbf{v})$.<br>\n"
   ]
  },
  {
   "cell_type": "markdown",
   "id": "0f5068cc-672f-46dc-9ccf-1f0e96e83ee7",
   "metadata": {},
   "source": [
    "$proj(\\textbf{u},\\textbf{v}) = \\frac{\\textbf{u} \\cdotp \\textbf{v}}{||\\textbf{v}||^2} \\textbf{v} = \\frac{-3}{(\\sqrt{35})^2}(3,5,1) =-\\frac{3}{35}(3,5,1) = (-\\frac{9}{35},-\\frac{15}{35},-\\frac{3}{35})$"
   ]
  },
  {
   "cell_type": "markdown",
   "id": "c5eccd15-d67d-4230-ab8f-eab9c087f679",
   "metadata": {},
   "source": [
    "l. Find $proj(\\textbf{w},\\textbf{v})$.<br>\n"
   ]
  },
  {
   "cell_type": "markdown",
   "id": "a0583528-eb8f-446f-9fec-4ee05897815b",
   "metadata": {},
   "source": [
    "$proj(\\textbf{w},\\textbf{v}) = \\frac{\\textbf{w} \\cdotp \\textbf{v}}{||\\textbf{v}||^2} \\textbf{v} = \\frac{8}{(\\sqrt{35})^2}(3,5,1) =\\frac{8}{35}(3,5,1) = (\\frac{32}{35},\\frac{8}{7},\\frac{8}{35})$"
   ]
  },
  {
   "cell_type": "markdown",
   "id": "c3a14d24-33dd-4ecf-9fa4-7412a37bfc39",
   "metadata": {},
   "source": [
    "m. Find $proj(\\textbf{u},\\textbf{w})$. <br>\n"
   ]
  },
  {
   "cell_type": "markdown",
   "id": "7f2405c5-413c-44ac-9a28-88bdbbda507b",
   "metadata": {},
   "source": [
    "$proj(\\textbf{u},\\textbf{w}) = \\frac{\\textbf{u} \\cdotp \\textbf{w}}{||\\textbf{w}||^2} \\textbf{w} = \\frac{-12}{(\\sqrt{14})^2}(2,1,-3) =\\frac{-12}{14}(2,1,-3) = -\\frac{6}{7}(2,1,-3) = (-\\frac{12}{7},-\\frac{6}{7},\\frac{18}{7})$"
   ]
  },
  {
   "cell_type": "markdown",
   "id": "f4bddefe-8f33-4e72-b763-4fe92dfdc400",
   "metadata": {},
   "source": [
    "#### Pythonic Solution"
   ]
  },
  {
   "cell_type": "markdown",
   "id": "e9e2a69a-c744-42ba-b35a-81651d35daf6",
   "metadata": {},
   "source": [
    "import numpy as np\n",
    "\n",
    "u = np.array([1, -2, 4])  \n",
    "v = np.array([3,5,1])  \n",
    "w = np.array([2,1,-3]) \n",
    "\n",
    "print(\"3u - 2v = \", (3*u) - (2*v))\n",
    "print(\"5u + 3v -4w = \", (5*u) + (3*v) - (4*w))\n",
    "print(\"u.v, v.w, u.w = \", u.dot(v),\", \", v.dot(w),\", \", u.dot(w))\n",
    "print(\"||u||, ||v||, ||w||= \", np.sqrt(u.dot(u)),\", \", np.sqrt(v.dot(v)),\", \", np.sqrt(w.dot(w)))\n",
    "print(\"cosθ = (u.v)/||u||||v||= \", u.dot(v) / (np.linalg.norm(u) * np.linalg.norm(v)))\n",
    "print(\"cosα = (v.w)/||v||||w||= \", v.dot(w) / (np.linalg.norm(v) * np.linalg.norm(w)))\n",
    "print(\"cosβ = (u.w)/||u||||w||= \", u.dot(w) / (np.linalg.norm(u) * np.linalg.norm(w)))\n",
    "print(\"d(u,v) = \", np.linalg.norm(u-v))\n",
    "print(\"d(w,v) = \", np.linalg.norm(w-v))\n",
    "print(\"d(u,w) = \", np.linalg.norm(u-w))\n",
    "print(\"proj(u, v)\", u.dot(v)*v/(np.linalg.norm(v)**2))\n",
    "print(\"proj(w, v)\", w.dot(v)*v/(np.linalg.norm(v)**2))\n",
    "print(\"proj(u, w)\", u.dot(w)*w/(np.linalg.norm(w)**2))"
   ]
  },
  {
   "cell_type": "markdown",
   "id": "f45a1753-d37b-4380-8667-3703f1f06457",
   "metadata": {},
   "source": [
    "#### 2. Repeat problem 1 with the following column vectors:"
   ]
  },
  {
   "cell_type": "markdown",
   "id": "1e807c69-6466-43d6-a788-d0f2ca07a0d2",
   "metadata": {},
   "source": [
    "#### Manual Solution"
   ]
  },
  {
   "cell_type": "markdown",
   "id": "5b119d47-6f4b-4924-a8da-8027969e78e1",
   "metadata": {},
   "source": [
    "a. $3\\textbf{u}-2\\textbf{v}$<br>"
   ]
  },
  {
   "cell_type": "markdown",
   "id": "967197ce-99dc-49b2-bb50-732932649d7f",
   "metadata": {},
   "source": [
    "$= 3\\textbf{u}-2\\textbf{v} = 3(1, 3, -4) - 2(2, 1, 5)$<br>\n",
    "$= (3, 9, 12) - (4, 2, 10)$<br>\n",
    "$= (-1, -7, 2)$<br>"
   ]
  },
  {
   "cell_type": "markdown",
   "id": "2192bbfa-7d0b-49f5-899a-33efbb88e789",
   "metadata": {},
   "source": [
    "b. $5\\textbf{u}+3\\textbf{v}-4\\textbf{w}$<br>"
   ]
  },
  {
   "cell_type": "markdown",
   "id": "575ec7c3-c840-4b87-98be-7a4b0f6b2e9d",
   "metadata": {},
   "source": [
    "$= 5(1,3, -4) + 3(2,1,5) - 4(3, -2, 6)$<br>\n",
    "$= (5, 15, -20) + (6, 3, 15) -(12, 8, -24)$<br>\n",
    "$= (-1, 10, -29)$<br>"
   ]
  },
  {
   "cell_type": "markdown",
   "id": "dafde3ab-deb3-40ff-8572-642313294e9b",
   "metadata": {},
   "source": [
    "c. $\\textbf{u} \\cdotp \\textbf{v}$,$\\textbf{v} \\cdotp \\textbf{w}$, $\\textbf{u} \\cdotp \\textbf{w}$<br>"
   ]
  },
  {
   "cell_type": "markdown",
   "id": "48526e24-3dc8-4b89-bb38-edf24aa0f67b",
   "metadata": {},
   "source": [
    "$\\textbf{u} \\cdotp \\textbf{v} = 1(2)+3(1)-4(5)=-15$<br>\r\n",
    " $\\textbf{v} \\cdotp \\textbf{w} = 2(3)+1(-2)+5(6)=34$<br>\r\n",
    " $\\textbf{u} \\cdotp \\textbf{w} = 1(3)+3(-2)-4(6)=-27$<br $"
   ]
  },
  {
   "cell_type": "markdown",
   "id": "37d2396c-eefe-4167-8fa2-2c9287db38ec",
   "metadata": {},
   "source": [
    " d. ||$\\textbf{u}$||, ||$\\textbf{v}$||, ||$\\textbf{w}$||<br>"
   ]
  },
  {
   "cell_type": "markdown",
   "id": "aee649de-01b0-4e3c-bc74-887dfcc1201a",
   "metadata": {},
   "source": [
    "||$\\textbf{u}$|| = $\\sqrt{\\textbf{u}.\\textbf{u}} = \\sqrt{1^{2}+3^{2}+(-4)^{2}}$ = $\\sqrt{26}$<br>\n",
    "||$\\textbf{v}$|| = $\\sqrt{\\textbf{v}.\\textbf{v}} = \\sqrt{2^{2}+1^{2}+5^{2}}$ = $\\sqrt{30}$<br>\n",
    "||$\\textbf{w}$|| = $\\sqrt{\\textbf{w}.\\textbf{w}} = \\sqrt{3^{2}+(-2)^{2}+6^{2}}$ = $\\sqrt{49} = 7$<br>"
   ]
  },
  {
   "cell_type": "markdown",
   "id": "f0801b8f-f114-4b3a-8e8e-8bf2fdd64aeb",
   "metadata": {},
   "source": [
    "e. If $\\theta$ is the angle between $\\textbf{u}$  and   $\\textbf{v}$, find $\\cos{\\theta}$.<br>"
   ]
  },
  {
   "cell_type": "markdown",
   "id": "ce783757-8a98-44aa-b213-25748dd9450d",
   "metadata": {},
   "source": [
    "$\\cos{\\theta}\n",
    "=\\frac{\\textbf{u} \\cdotp \\textbf{v}}{||\\textbf{u}|| \\ ||\\textbf{v}||}$\n",
    "$=\\frac{2(3)+1(-2)+5(6)}{\\sqrt{2^{2}+1^{2}+5^{2}}\\sqrt{3^{2}+(-2)^{2}+6^{2}}}$\n",
    "$=\\frac{34}{7\\sqrt{30}}$"
   ]
  },
  {
   "cell_type": "markdown",
   "id": "8321fd41-0547-42bf-9ebc-c6b76d6ed262",
   "metadata": {},
   "source": [
    "f. If $\\alpha$ is the angle between $\\textbf{v}$  and   $\\textbf{w}$, find $\\cos{\\alpha}$.<br>"
   ]
  },
  {
   "cell_type": "markdown",
   "id": "3753a7fc-df68-449c-86b3-f1a6334df453",
   "metadata": {},
   "source": [
    "$\\cos{\\alpha}\n",
    "=\\frac{\\textbf{v} \\cdotp \\textbf{w}}{||\\textbf{v}|| \\ ||\\textbf{w}||}$\n",
    "$=\\frac{2(3)+1(-2)+5(6)}{\\sqrt{2^{2}+1^{2}+5^{2}}\\sqrt{3^{2}+(-2)^{2}+6^{2}}}$\n",
    "$=\\frac{34}{7\\sqrt{30}}$"
   ]
  },
  {
   "cell_type": "markdown",
   "id": "da626731-08ac-4ea4-8981-e3ff452afeea",
   "metadata": {},
   "source": [
    "g. If $\\beta$ is the angle between $\\textbf{u}$  and   $\\textbf{w}$, find $\\cos{\\beta}$.<br>"
   ]
  },
  {
   "cell_type": "markdown",
   "id": "ab53da35-ffd5-44b5-b3c0-e5c453bbf20f",
   "metadata": {},
   "source": [
    "$\\cos{\\beta}\n",
    "=\\frac{\\textbf{u} \\cdotp \\textbf{w}}{||\\textbf{u}|| \\ ||\\textbf{w}||}$\n",
    "$=\\frac{1(3)+3(-2)-4(6)}{\\sqrt{1^{2}+3^{2}+(-4)^{2}}\\sqrt{3^{2}+(-2)^{2}+6^{2}}}$\n",
    "$=-\\frac{27}{7\\sqrt{26}}$"
   ]
  },
  {
   "cell_type": "markdown",
   "id": "ed5d9458-c683-4cc8-b4c1-fb9d33b8ac9c",
   "metadata": {},
   "source": [
    "h. Find $d(\\textbf{u},\\textbf{v})$.<br>"
   ]
  },
  {
   "cell_type": "markdown",
   "id": "ff640097-7048-4cd3-be49-59f1516fa18c",
   "metadata": {},
   "source": [
    "$d(\\textbf{u},\\textbf{v}) = ||\\textbf{u} - \\textbf{v}|| = \\sqrt{(1-2)^2 + (3-1)^2 + ((-4)-5)^2} = \\sqrt{1+4+81} = \\sqrt{86}$."
   ]
  },
  {
   "cell_type": "markdown",
   "id": "80f1beb9-d219-454d-94c9-2e2128a57095",
   "metadata": {},
   "source": [
    "i. Find $d(\\textbf{w},\\textbf{v})$.<br>\n"
   ]
  },
  {
   "cell_type": "markdown",
   "id": "ff627376-2c04-4b9d-97a7-c94744b4b275",
   "metadata": {},
   "source": [
    "$d(\\textbf{u},\\textbf{w}) = ||\\textbf{u} - \\textbf{w}|| = \\sqrt{(3-2)^2 + ((-2)-1)^2 + (6-5)^2} = \\sqrt{1+9+1} = \\sqrt{11}$."
   ]
  },
  {
   "cell_type": "markdown",
   "id": "d3fbef04-e2c1-449d-abb2-34973aa0de41",
   "metadata": {},
   "source": [
    "j. Find $d(\\textbf{u},\\textbf{w})$.<br>"
   ]
  },
  {
   "cell_type": "markdown",
   "id": "98ef5d7f-a7bf-446d-b29b-f46318327705",
   "metadata": {},
   "source": [
    "$d(\\textbf{u},\\textbf{w}) = ||\\textbf{u} - \\textbf{w}|| = \\sqrt{(1-3)^2 + (3-(-2))^2 + ((-4)-6)^2} = \\sqrt{4+25+100} = \\sqrt{129}$.<br>"
   ]
  },
  {
   "cell_type": "markdown",
   "id": "410f4c37-d861-4e02-b346-52f99107e4f8",
   "metadata": {},
   "source": [
    "k. Find $proj(\\textbf{u},\\textbf{v})$.<br>"
   ]
  },
  {
   "cell_type": "markdown",
   "id": "cef53f4e-8fe4-44b0-ad53-ec89e4532264",
   "metadata": {},
   "source": [
    "$proj(\\textbf{u},\\textbf{v}) = \\frac{\\textbf{u} \\cdotp \\textbf{v}}{||\\textbf{v}||^2} \\textbf{v} = \\frac{-15}{(\\sqrt{30})^2}\\begin{bmatrix}\n",
    "           2 \\\\\n",
    "           1 \\\\\n",
    "           5\n",
    "         \\end{bmatrix} =-\\frac{1}{2}\\begin{bmatrix}\n",
    "           2 \\\\\n",
    "           1 \\\\\n",
    "           5\n",
    "         \\end{bmatrix} = \\begin{bmatrix}\n",
    "           -1 \\\\\n",
    "           -\\frac{1}{2} \\\\\n",
    "           -\\frac{5}{2}\n",
    "         \\end{bmatrix}$"
   ]
  },
  {
   "cell_type": "markdown",
   "id": "2c9d7614-f4c4-42cd-a1c6-a79a401aeaf0",
   "metadata": {},
   "source": [
    "l. Find $proj(\\textbf{w},\\textbf{v})$.<br>"
   ]
  },
  {
   "cell_type": "markdown",
   "id": "12eee9cc-c9e9-43e8-b558-ef0c23dcb118",
   "metadata": {},
   "source": [
    "$proj(\\textbf{w},\\textbf{v}) = \\frac{\\textbf{w} \\cdotp \\textbf{v}}{||\\textbf{v}||^2} \\textbf{v} = \\frac{34}{(\\sqrt{30})^2}\\begin{bmatrix}\n",
    "           2 \\\\\n",
    "           1 \\\\\n",
    "           5\n",
    "         \\end{bmatrix} =\\frac{17}{15}\\begin{bmatrix}\n",
    "           2 \\\\\n",
    "           1 \\\\\n",
    "           5\n",
    "         \\end{bmatrix} = \\begin{bmatrix}\n",
    "           \\frac{34}{15} \\\\\n",
    "           \\frac{17}{15} \\\\\n",
    "           \\frac{17}{3}\n",
    "         \\end{bmatrix}$"
   ]
  },
  {
   "cell_type": "markdown",
   "id": "d02c50f8-e0fd-43b8-aae0-9c3cbe179f33",
   "metadata": {},
   "source": [
    "m. Find $proj(\\textbf{u},\\textbf{w})$. <br>\n"
   ]
  },
  {
   "cell_type": "markdown",
   "id": "5e3760dd-1bc7-4dae-9e50-429ad9d6913c",
   "metadata": {},
   "source": [
    "$proj(\\textbf{u},\\textbf{v}) = \\frac{\\textbf{u} \\cdotp \\textbf{v}}{||\\textbf{v}||^2} \\textbf{v} = \\frac{-27}{(7)^2}\\begin{bmatrix}\n",
    "           3 \\\\\n",
    "           -2 \\\\\n",
    "           6\n",
    "         \\end{bmatrix} =-\\frac{27}{49}\\begin{bmatrix}\n",
    "           3 \\\\\n",
    "           -2 \\\\\n",
    "           6\n",
    "         \\end{bmatrix} = \\begin{bmatrix}\n",
    "           -\\frac{81}{49} \\\\\n",
    "           \\frac{54}{49} \\\\\n",
    "           -\\frac{162}{49}\n",
    "         \\end{bmatrix}$"
   ]
  },
  {
   "cell_type": "markdown",
   "id": "d70aa42d-a8e0-4104-9160-27e0dc27d34a",
   "metadata": {},
   "source": [
    "#### Pythonic Solution"
   ]
  },
  {
   "cell_type": "code",
   "execution_count": 5,
   "id": "f6b54dd7-9bc8-437d-9267-fd15c79f452f",
   "metadata": {},
   "outputs": [
    {
     "name": "stdout",
     "output_type": "stream",
     "text": [
      "3u - 2v =  [ -1   7 -22]\n",
      "5u + 3v -4w =  [ -1  26 -29]\n",
      "u.v, v.w, u.w =  -15 ,  34 ,  -27\n",
      "||u||, ||v||, ||w|| =  5.0990195135927845 ,  5.477225575051661 ,  7.0\n",
      "cosθ = (u.v)/||u||||v|| =  -0.5370861555295747\n",
      "cosα = (v.w)/||v||||w|| =  0.8867889026274118\n",
      "cosβ = (u.w)/||u||||w|| =  -0.7564479498187099\n",
      "d(u,v) =  9.273618495495704\n",
      "d(w,v) =  3.3166247903554\n",
      "d(u,w) =  11.357816691600547\n",
      "proj(u, v) [-1.  -0.5 -2.5]\n",
      "proj(w, v) [2.26666667 1.13333333 5.66666667]\n",
      "proj(u, w) [-1.65306122  1.10204082 -3.30612245]\n"
     ]
    }
   ],
   "source": [
    "import numpy as np\n",
    "u = np.array([1, 3, -4]).T\n",
    "v = np.array([2,1,5]).T   \n",
    "w = np.array([3,-2,6]).T  \n",
    "\n",
    "print(\"3u - 2v = \", (3*u) - (2*v))\n",
    "print(\"5u + 3v -4w = \", (5*u) + (3*v) - (4*w))\n",
    "print(\"u.v, v.w, u.w = \", u.dot(v),\", \", v.dot(w),\", \", u.dot(w))\n",
    "print(\"||u||, ||v||, ||w|| = \", np.sqrt(u.dot(u)),\", \", np.sqrt(v.dot(v)),\", \", np.sqrt(w.dot(w)))\n",
    "print(\"cosθ = (u.v)/||u||||v|| = \", u.dot(v) / (np.linalg.norm(u) * np.linalg.norm(v)))\n",
    "print(\"cosα = (v.w)/||v||||w|| = \", v.dot(w) / (np.linalg.norm(v) * np.linalg.norm(w)))\n",
    "print(\"cosβ = (u.w)/||u||||w|| = \", u.dot(w) / (np.linalg.norm(u) * np.linalg.norm(w)))\n",
    "print(\"d(u,v) = \", np.linalg.norm(u-v))\n",
    "print(\"d(w,v) = \", np.linalg.norm(w-v))\n",
    "print(\"d(u,w) = \", np.linalg.norm(u-w))\n",
    "print(\"proj(u, v)\", u.dot(v)*v/(np.linalg.norm(v)**2))\n",
    "print(\"proj(w, v)\", w.dot(v)*v/(np.linalg.norm(v)**2))\n",
    "print(\"proj(u, w)\", u.dot(w)*w/(np.linalg.norm(w)**2))"
   ]
  },
  {
   "cell_type": "markdown",
   "id": "ef89b2df-d9d1-4080-8dba-9564672540e2",
   "metadata": {},
   "source": [
    "#### 3. Let $\\textbf{u} = (2,-5,4,6,-3)$, $\\textbf{v} = (5,-2,1,-7,-4)$, and $\\textbf{w} = (2,1,-3)$ find:<br>"
   ]
  },
  {
   "cell_type": "markdown",
   "id": "2e11d83b-1837-44b4-b595-190c9cf1e76b",
   "metadata": {},
   "source": [
    "#### Manual Solution"
   ]
  },
  {
   "cell_type": "markdown",
   "id": "190d093c-f91c-432a-9c12-f8cc34a69721",
   "metadata": {},
   "source": [
    "a. $ 4\\textbf{u} - 3\\textbf{v} $ <br>"
   ]
  },
  {
   "cell_type": "markdown",
   "id": "8461504c-478b-4a58-9b49-d3df598027b4",
   "metadata": {},
   "source": [
    "$= 4(2, -5, 4,6,-3) - 3(5,-2,1,-7,-4)$ <br>\n",
    "$= (8, -20, 16,24,-12) - (15,-6,3,-21,-12)$ <br>\n",
    "$= (-7, -14, 13,45,0)$ <br>"
   ]
  },
  {
   "cell_type": "markdown",
   "id": "260863c7-fcd2-48b9-a096-14ede0e1c8d2",
   "metadata": {},
   "source": [
    "b. $ 5\\textbf{u} + 2\\textbf{v} - 2\\textbf{w} $ <br>\n"
   ]
  },
  {
   "cell_type": "markdown",
   "id": "fb2d4f12-ae58-4f65-a425-920266344948",
   "metadata": {},
   "source": [
    "$= 5(2, -5, 4,6,-3) + 2(5,-2,1,-7,-4) - 2(2,1,-3)$ <br>\n",
    "$= (10, -25, 20,30,-15) + (10,-4,2,-14,-6) - (4,2,-6)$ <br>\n",
    "$= (20, -29, 22,16,-23) - (4,2,-6)$ <br>\n",
    "$= (16, -31, 28,16,-23)$ <br>"
   ]
  },
  {
   "cell_type": "markdown",
   "id": "34d4dc5a-0f95-4c61-8599-16b8d24a43d5",
   "metadata": {},
   "source": [
    "c. $\\textbf{u} \\cdotp \\textbf{v}$,$\\textbf{v} \\cdotp \\textbf{w}$, $\\textbf{u} \\cdotp \\textbf{w}$<br>\n"
   ]
  },
  {
   "cell_type": "markdown",
   "id": "aa79c7ac-e712-4a2e-b988-39410c54202e",
   "metadata": {},
   "source": [
    "- $\\textbf{u} \\cdotp \\textbf{v}$\n",
    "= $ 2(5) + (-5)(-2) + 4(1) + 6(-7) + (-3)(-4)$<br>\n",
    "= $ 10 + 10 + 4 - 42 + 12 $<br>\n",
    "= $ -6 $<br>"
   ]
  },
  {
   "cell_type": "markdown",
   "id": "c986e850-607f-4cfd-aa6f-884e019089a5",
   "metadata": {},
   "source": [
    "- $\\textbf{v} \\cdotp \\textbf{w}$\n",
    "= $ 5(2) + (-2)(1) + 1(3) + (-7)(0) + (-4)(0) $<br>\n",
    "= $ 10 - 2 + 3 $<br>\n",
    "= $ 5 $<br>"
   ]
  },
  {
   "cell_type": "markdown",
   "id": "3f6efb78-ef7e-4fc1-9b57-e14e007c52b7",
   "metadata": {},
   "source": [
    "- $\\textbf{u} \\cdotp \\textbf{w}$\n",
    "= $ 2(2) + (-5)(1) + 4(-3) + 6(0)+ (-3)(0) $<br>\n",
    "= $ 4 - 5 - 12 $<br>\n",
    "= $ -13 $<br>"
   ]
  },
  {
   "cell_type": "markdown",
   "id": "efd7f357-25a8-42e2-b356-9e3b8a67b7c4",
   "metadata": {},
   "source": [
    "d. ||$\\textbf{u}$||, ||$\\textbf{v}$||, ||$\\textbf{w}$||<br>"
   ]
  },
  {
   "cell_type": "markdown",
   "id": "032cdf86-0d2b-467e-9de6-28affc84fc94",
   "metadata": {},
   "source": [
    "- ||$\\textbf{u}$|| = $\\sqrt{\\textbf{u}.\\textbf{u}} = \\sqrt{2^{2}+(-5)^{2}+4^{2}+6^{2}+(-3)^{2}}$ = $\\sqrt{90} = 3\\sqrt{10}$<br>"
   ]
  },
  {
   "cell_type": "markdown",
   "id": "d577b3d0-a539-4fd5-8fdc-60879be2dfbb",
   "metadata": {},
   "source": [
    "- ||$\\textbf{v}$|| = $\\sqrt{\\textbf{v}.\\textbf{v}} = \\sqrt{5^{2}+(-2)^{2}+1^{2}+(-7)^{2}+(-4)^{2}}$ = $\\sqrt{95}$<br>"
   ]
  },
  {
   "cell_type": "markdown",
   "id": "c9663177-bd5b-40c2-ac25-8ce32e4f5125",
   "metadata": {},
   "source": [
    "- ||$\\textbf{w}$|| = $\\sqrt{\\textbf{w}.\\textbf{w}} = \\sqrt{2^{2}+1^{2}+(-3)^{2}}$ = $\\sqrt{14}$<br>"
   ]
  },
  {
   "cell_type": "markdown",
   "id": "e0a2115f-4dc6-4fe7-aa77-bb6c99b4eaaa",
   "metadata": {},
   "source": [
    "e. If $\\theta$ is the angle between $\\textbf{u}$  and   $\\textbf{v}$, find $\\cos{\\theta}$.<br>\n"
   ]
  },
  {
   "cell_type": "markdown",
   "id": "2a3c36bb-659d-4d09-b525-e00e92584365",
   "metadata": {},
   "source": [
    "$\\cos{\\theta}\n",
    "=\\frac{\\textbf{u} \\cdotp \\textbf{v}}{||\\textbf{u}|| \\ ||\\textbf{v}||}$\n",
    "$=-\\frac{6}{3\\sqrt{10}\\sqrt{95}}$"
   ]
  },
  {
   "cell_type": "markdown",
   "id": "0ba257ee-ee5e-419f-9f9f-d4bd283a838a",
   "metadata": {},
   "source": [
    "f. If $\\alpha$ is the angle between $\\textbf{v}$  and   $\\textbf{w}$, find $\\cos{\\alpha}$.<br>\n"
   ]
  },
  {
   "cell_type": "markdown",
   "id": "c008327c-d4bb-495c-a820-92964adb5f2a",
   "metadata": {},
   "source": [
    "$\\cos{\\alpha}\n",
    "=\\frac{\\textbf{v} \\cdotp \\textbf{w}}{||\\textbf{v}|| \\ ||\\textbf{w}||}$\n",
    "$=\\frac{5}{\\sqrt{95}\\sqrt{14}}$"
   ]
  },
  {
   "cell_type": "markdown",
   "id": "d69a057b-f837-4f59-9293-3eb75fe05dbd",
   "metadata": {},
   "source": [
    "g. If $\\beta$ is the angle between $\\textbf{u}$  and   $\\textbf{w}$, find $\\cos{\\beta}$.<br>"
   ]
  },
  {
   "cell_type": "markdown",
   "id": "178b309f-e257-43e3-96dc-95fbe05a15db",
   "metadata": {},
   "source": [
    "$\\cos{\\beta}\n",
    "=\\frac{\\textbf{u} \\cdotp \\textbf{w}}{||\\textbf{u}|| \\ ||\\textbf{w}||}$\n",
    "$=-\\frac{13}{3\\sqrt{10}\\sqrt{14}}$"
   ]
  },
  {
   "cell_type": "markdown",
   "id": "f033b624-91ac-4014-ae38-9292100d4785",
   "metadata": {},
   "source": [
    "h. Find $d(\\textbf{u},\\textbf{v})$.<br>\n"
   ]
  },
  {
   "cell_type": "markdown",
   "id": "2e9c552b-f5df-4535-a2f2-c7a63360213d",
   "metadata": {},
   "source": [
    "$d(\\textbf{u},\\textbf{v}) = ||\\textbf{u} - \\textbf{v}|| = \\sqrt{(2-5)^2 + ((-5)+2)^2 + (4-1)^2 + (6+7)^{2} + ((-3)+4)^{2}} = \\sqrt{9+9+9+169+1} = \\sqrt{197}$."
   ]
  },
  {
   "cell_type": "markdown",
   "id": "811abcab-a28e-40a2-9c3c-e15b56096146",
   "metadata": {},
   "source": [
    "#### Pythonic Solution"
   ]
  },
  {
   "cell_type": "code",
   "execution_count": 10,
   "id": "f26dbf65-f8ce-4f12-8796-762e316b9202",
   "metadata": {},
   "outputs": [
    {
     "name": "stdout",
     "output_type": "stream",
     "text": [
      "4u - 3v =  [ -7 -14  13  45   0]\n",
      "5u + 2v -2w =  [ 16 -31  28  16 -23]\n",
      "u.v, v.w, u.w =  -6 ,  5 ,  -13\n",
      "||u||, ||v||, ||w|| =  9.486832980505138 ,  9.746794344808963 ,  3.7416573867739413\n",
      "cosθ = (u.v)/||u||||v|| =  -0.06488856845230502\n",
      "cosα = (v.w)/||v||||w|| =  0.13710212427677046\n",
      "cosβ = (u.w)/||u||||w|| =  -0.3662335103823572\n",
      "d(u,v) =  14.035668847618199\n",
      "d(w,v) =  9.9498743710662\n",
      "d(u,w) =  11.40175425099138\n",
      "proj(u, v) [-0.31578947  0.12631579 -0.06315789  0.44210526  0.25263158]\n",
      "proj(w, v) [ 0.26315789 -0.10526316  0.05263158 -0.36842105 -0.21052632]\n",
      "proj(u, w) [-1.85714286 -0.92857143  2.78571429  0.          0.        ]\n"
     ]
    }
   ],
   "source": [
    "import numpy as np\n",
    "u = np.array([2, -5, 4, 6, -3])   \n",
    "v = np.array([5, -2, 1, -7, -4])  \n",
    "w = np.array([2,1,-3])  \n",
    "\n",
    "print(\"4u - 3v = \", (4*u) - (3*v))\n",
    "print(\"5u + 2v -2w = \", (5*u) + (2*v) - (2*(np.append(w, [0,0]))))\n",
    "print(\"u.v, v.w, u.w = \", u.dot(v),\", \", v.dot((np.append(w, [0,0]))),\", \", u.dot((np.append(w, [0,0]))))\n",
    "print(\"||u||, ||v||, ||w|| = \", np.sqrt(u.dot(u)),\", \", np.sqrt(v.dot(v)),\", \", np.sqrt(w.dot(w)))\n",
    "print(\"cosθ = (u.v)/||u||||v|| = \", u.dot(v) / (np.linalg.norm(u) * np.linalg.norm(v)))\n",
    "print(\"cosα = (v.w)/||v||||w|| = \", v.dot((np.append(w, [0,0]))) / (np.linalg.norm(v) * np.linalg.norm((np.append(w, [0,0])))))\n",
    "print(\"cosβ = (u.w)/||u||||w|| = \", u.dot((np.append(w, [0,0]))) / (np.linalg.norm(u) * np.linalg.norm((np.append(w, [0,0])))))\n",
    "print(\"d(u,v) = \", np.linalg.norm(u-v))\n",
    "print(\"d(w,v) = \", np.linalg.norm((np.append(w, [0,0]))-v))\n",
    "print(\"d(u,w) = \", np.linalg.norm(u-(np.append(w, [0,0]))))\n",
    "print(\"proj(u, v)\", u.dot(v)*v/(np.linalg.norm(v)**2))\n",
    "print(\"proj(w, v)\", (np.append(w, [0,0])).dot(v)*v/(np.linalg.norm(v)**2))\n",
    "print(\"proj(u, w)\", u.dot((np.append(w, [0,0])))*(np.append(w, [0,0]))/(np.linalg.norm((np.append(w, [0,0])))**2))"
   ]
  },
  {
   "cell_type": "markdown",
   "id": "da98afd3-cb12-4c07-a520-8a55318d4b06",
   "metadata": {},
   "source": [
    "#### 4. Normalize each vector:<br>\n",
    "a. $\\textbf{u}$ = (5,-7).<br>\n",
    "b. $\\textbf{v}$ = (1,2,-2,4).<br>\n",
    "c. $\\textbf{w} = (\\frac{1}{2},\\frac{-1}{3},\\frac{3}{4})$.<br>\n",
    "<br>"
   ]
  },
  {
   "cell_type": "markdown",
   "id": "1b2576fa-213e-462e-bc5d-d609c36be98e",
   "metadata": {},
   "source": [
    "#### Manual Solution"
   ]
  },
  {
   "cell_type": "markdown",
   "id": "d9c6d314-0d3c-4724-8dce-e931cbb56ea1",
   "metadata": {},
   "source": [
    "a. $\\textbf{u}$ = (5,-7).<br>\n",
    "||$\\textbf{u}$|| = $\\sqrt{\\textbf{u}.\\textbf{u}} = \\sqrt{5^{2}+(-7)^{2}} = \\sqrt{25+49} = \\sqrt{74}$<br>"
   ]
  },
  {
   "cell_type": "markdown",
   "id": "e7613d01-2555-4dda-b1fa-99760867e7a5",
   "metadata": {},
   "source": [
    "b. $\\textbf{v}$ = (1,2,-2,4).<br>\n",
    "||$\\textbf{v}$|| = $\\sqrt{\\textbf{v}.\\textbf{v}} = \\sqrt{1^{2}+2^{2}+(-2)^{2}+4^{2}} = \\sqrt{1+4+4+16} = \\sqrt{25} = 5$<br>"
   ]
  },
  {
   "cell_type": "markdown",
   "id": "3951c0d3-36fa-481b-8d53-0c200b777628",
   "metadata": {},
   "source": [
    "c. $\\textbf{w} = (\\frac{1}{2},\\frac{-1}{3},\\frac{3}{4})$.<br>\n",
    "||$\\textbf{w}$|| = $\\sqrt{\\textbf{w}.\\textbf{w}} = \\sqrt{(\\frac{1}{2})^{2} + (-\\frac{1}{3})^{2} + (\\frac{3}{4})^{2}} = \\sqrt{(\\frac{1}{4}) + (\\frac{1}{9}) + (\\frac{9}{16})} = \\sqrt{(\\frac{36}{144}) + (-\\frac{16}{144}) + (\\frac{81}{144})} = \\sqrt{\\frac{133}{144}} $<br>"
   ]
  },
  {
   "cell_type": "markdown",
   "id": "7f7fbb59-c8eb-4128-acb5-fbf6fac93d41",
   "metadata": {},
   "source": [
    "#### Pythonic Solution"
   ]
  },
  {
   "cell_type": "code",
   "execution_count": 14,
   "id": "e700f746-feeb-413f-9fa6-2e09312a8200",
   "metadata": {},
   "outputs": [
    {
     "name": "stdout",
     "output_type": "stream",
     "text": [
      "||u|| =  8.602325267042627\n",
      "||v|| =  5.0\n",
      "||w|| =  0.961046882889233\n"
     ]
    }
   ],
   "source": [
    "import numpy as np\n",
    "u = np.array([5,-7])   \n",
    "v = np.array([1,2,-2,4])   \n",
    "w = np.array([1/2,-1/3,3/4]) \n",
    "\n",
    "print(\"||u|| = \", np.sqrt(u.dot(u)))\n",
    "print(\"||v|| = \", np.sqrt(v.dot(v)))\n",
    "print(\"||w|| = \", np.sqrt(w.dot(w)))"
   ]
  },
  {
   "cell_type": "markdown",
   "id": "6e58b929-be64-443b-a598-bcaa7a19e81b",
   "metadata": {},
   "source": [
    "#### 5. Let $\\textbf{u} = (1,2,-2)$,$\\textbf{v} = (3,-12,4)$ and a scalar $k = -3$: <br>\n",
    "Find $||u||, ||v||, ||u+v||, ||ku||$.<br>"
   ]
  },
  {
   "cell_type": "markdown",
   "id": "a94f5cc7-65d1-44fe-b683-b85394e2850c",
   "metadata": {},
   "source": [
    "- ||$\\textbf{u}$|| = $\\sqrt{\\textbf{u}.\\textbf{u}} = \\sqrt{1^{2}+2^{2}+(-2)^{2}} = \\sqrt{1+4+4} = \\sqrt{9} = 3$<br>"
   ]
  },
  {
   "cell_type": "markdown",
   "id": "54260074-b185-4057-b33a-625afc4d1b03",
   "metadata": {},
   "source": [
    "- ||$\\textbf{v}$|| = $\\sqrt{\\textbf{v}.\\textbf{v}} = \\sqrt{3^{2}+(-12)^{2}+4^{2}} = \\sqrt{9+144+16} = \\sqrt{169} = 13$<br>"
   ]
  },
  {
   "cell_type": "markdown",
   "id": "da3db419-a4c7-4cc3-8486-82f57e886c32",
   "metadata": {},
   "source": [
    "- ||$\\textbf{u+v}$|| = solve for u+v<br>\n",
    "$\\textbf{u+v}$ = $(1,2,-2) + (3,-12,4) = (4, -10, 2)$<br>\n",
    "||$\\textbf{u+v}$|| = $\\sqrt{4^{2} + (-10)^{2} + 2^{2}} = \\sqrt{16+100+4} $ <br>\n",
    "$= \\sqrt{120} = \\sqrt{4(30)} = 2\\sqrt{30}$"
   ]
  },
  {
   "cell_type": "markdown",
   "id": "a6211fa0-e043-4447-9330-ccf2d1534b10",
   "metadata": {},
   "source": [
    "- $||ku|| => ku = -3(1, 2, -2) = (-3, -6, 6) $ <br>\n",
    "  $ =\\sqrt{(-3)^{2} + (-6)^{2} + 6^{2}} $\n",
    "  $ =\\sqrt{9 + 36 + 36} = \\sqrt{81} = 9 $"
   ]
  },
  {
   "cell_type": "markdown",
   "id": "47292e84-bb96-4b19-8683-e334f74a4fed",
   "metadata": {},
   "source": [
    "#### Pythonic Solution"
   ]
  },
  {
   "cell_type": "code",
   "execution_count": 15,
   "id": "ec723fec-6bb0-4932-a5ae-fd8abd473d73",
   "metadata": {},
   "outputs": [
    {
     "name": "stdout",
     "output_type": "stream",
     "text": [
      "||u|| =  3.0\n",
      "||v|| =  13.0\n",
      "||u+v|| =  10.954451150103322\n",
      "||ku|| =  9.0\n"
     ]
    }
   ],
   "source": [
    "import numpy as np\n",
    "u = np.array([1,2,-2])   \n",
    "v = np.array([3,-12,4])  \n",
    "k = -3 \n",
    "\n",
    "print(\"||u|| = \", np.sqrt(u.dot(u)))\n",
    "print(\"||v|| = \", np.sqrt(v.dot(v)))\n",
    "print(\"||u+v|| = \", np.sqrt((u+v).dot(u+v)))\n",
    "print(\"||ku|| = \", np.sqrt((k*u).dot(k*u)))"
   ]
  },
  {
   "cell_type": "markdown",
   "id": "69ceb202-59e1-4c78-8ef5-032cc36cfce5",
   "metadata": {},
   "source": [
    "#### 6. Find k so that $\\textbf{u}  \\ and \\  \\textbf{v}$ are orthogonal."
   ]
  },
  {
   "cell_type": "markdown",
   "id": "1f3eb56e-7bd1-4266-837f-26db004ded1c",
   "metadata": {},
   "source": [
    "#### Manual Solution"
   ]
  },
  {
   "cell_type": "markdown",
   "id": "5af2c74b-57d6-42be-a59f-fec466e04550",
   "metadata": {},
   "source": [
    "a. $\\textbf{u} = (3, k, -2), \\textbf{v} = (6, -4, -3)$.<br>\n",
    "  $\\textbf{u}.\\textbf{v} = 0 $ <br>\n",
    "  -> $ (3)(6) + k(-4) + (-2)(-3) = 0 $ <br>\n",
    "  -> $ 18 - 4k + 6 = 0 $ <br>\n",
    "  -> $ 24 - 4k = 0 $ <br>\n",
    "  -> $ \\frac{24}{4} = \\frac{4k}{4} $ <br>\n",
    "  -> $ k = 6 $<br>\n",
    "\n",
    "  - b. $\\textbf{u} = (5,k,-4,2), \\textbf{v} = (1,-3,2,2k)$.<br>\n",
    "  $\\textbf{u}.\\textbf{v} = 0 $ <br>\n",
    "  -> $ (5)(1) + k(-3) + (-4)(2) + (2)(2k) = 0 $ <br>\n",
    "  -> $ 5 - k3 - 8 + 4k = 0 $ <br>\n",
    "  -> $ -3 + k = 0 $ <br>\n",
    "  -> $ k = 3 $<br>\n",
    "\n",
    "  - c. $\\textbf{u} = (1,7,k+2,-2), \\textbf{v} = (3, k, -3,k)$.<br>\n",
    "  $\\textbf{u}.\\textbf{v} = 0 $ <br>\n",
    "  -> $ (1)(3) + 7k + (k+2)(-3) + (2)k = 0 $ <br>\n",
    "  -> $ 3 + 6k - 3k - 2k = 0 $ <br>\n",
    "  -> $ 3 + k = 0 $ <br>\n",
    "  -> $ k = -3 $<br>"
   ]
  },
  {
   "cell_type": "markdown",
   "id": "6b839c18-7bd1-46ec-a7ed-f2f92843151b",
   "metadata": {},
   "source": [
    "#### Pythonic Solution"
   ]
  },
  {
   "cell_type": "code",
   "execution_count": 1,
   "id": "70f2910a-0caf-4e20-b6f7-f0ef42f32192",
   "metadata": {},
   "outputs": [
    {
     "name": "stdout",
     "output_type": "stream",
     "text": [
      "a) k =  [6]\n",
      "b) k =  [3]\n",
      "c) k =  [-3]\n"
     ]
    }
   ],
   "source": [
    "import numpy as np\n",
    "from sympy import symbols, solve\n",
    "k = symbols('k')\n",
    "\n",
    "print(\"a) k = \", solve(18-4*k+6))\n",
    "print(\"b) k = \", solve(5-k*3-8+4*k))\n",
    "print(\"c) k = \", solve(3+6*k-3*k-2*k))"
   ]
  },
  {
   "cell_type": "code",
   "execution_count": null,
   "id": "65659db3-d840-4400-b862-2b72ed6a1f6d",
   "metadata": {},
   "outputs": [],
   "source": []
  }
 ],
 "metadata": {
  "kernelspec": {
   "display_name": "Python 3 (ipykernel)",
   "language": "python",
   "name": "python3"
  },
  "language_info": {
   "codemirror_mode": {
    "name": "ipython",
    "version": 3
   },
   "file_extension": ".py",
   "mimetype": "text/x-python",
   "name": "python",
   "nbconvert_exporter": "python",
   "pygments_lexer": "ipython3",
   "version": "3.11.5"
  }
 },
 "nbformat": 4,
 "nbformat_minor": 5
}
